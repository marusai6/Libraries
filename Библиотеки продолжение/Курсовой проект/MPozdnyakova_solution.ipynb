{
  "cells": [
    {
      "cell_type": "markdown",
      "metadata": {
        "id": "gTQ5rB95yZS8"
      },
      "source": [
        "##Задача\n",
        "\n",
        "Требуется, на основании имеющихся данных о клиентах банка, построить модель, используя обучающий датасет, для прогнозирования невыполнения долговых обязательств по текущему кредиту. Выполнить прогноз для примеров из тестового датасета.\n",
        "\n",
        "##Наименование файлов с данными\n",
        "\n",
        "course_project_train.csv - обучающий датасет\n",
        "course_project_test.csv - тестовый датасет\n",
        "\n",
        "##Целевая переменная\n",
        "\n",
        "Credit Default - факт невыполнения кредитных обязательств\n",
        "\n",
        "##Метрика качества\n",
        "\n",
        "F1-score (sklearn.metrics.f1_score)"
      ]
    },
    {
      "cell_type": "markdown",
      "metadata": {
        "id": "AGnhE9vXNejz"
      },
      "source": [
        "###Подключение библиотек и скриптов"
      ]
    },
    {
      "cell_type": "code",
      "execution_count": 1,
      "metadata": {
        "colab": {
          "base_uri": "https://localhost:8080/"
        },
        "id": "ZDsa92Obu_P6",
        "outputId": "abe1c51b-7dd9-40cb-b520-5e4fc26a48fe"
      },
      "outputs": [
        {
          "output_type": "stream",
          "name": "stdout",
          "text": [
            "Looking in indexes: https://pypi.org/simple, https://us-python.pkg.dev/colab-wheels/public/simple/\n",
            "Requirement already satisfied: lightgbm in /usr/local/lib/python3.10/dist-packages (3.3.5)\n",
            "Requirement already satisfied: scipy in /usr/local/lib/python3.10/dist-packages (from lightgbm) (1.10.1)\n",
            "Requirement already satisfied: numpy in /usr/local/lib/python3.10/dist-packages (from lightgbm) (1.22.4)\n",
            "Requirement already satisfied: scikit-learn!=0.22.0 in /usr/local/lib/python3.10/dist-packages (from lightgbm) (1.2.2)\n",
            "Requirement already satisfied: wheel in /usr/local/lib/python3.10/dist-packages (from lightgbm) (0.40.0)\n",
            "Requirement already satisfied: threadpoolctl>=2.0.0 in /usr/local/lib/python3.10/dist-packages (from scikit-learn!=0.22.0->lightgbm) (3.1.0)\n",
            "Requirement already satisfied: joblib>=1.1.1 in /usr/local/lib/python3.10/dist-packages (from scikit-learn!=0.22.0->lightgbm) (1.2.0)\n"
          ]
        }
      ],
      "source": [
        "!pip install lightgbm"
      ]
    },
    {
      "cell_type": "code",
      "execution_count": 2,
      "metadata": {
        "id": "0x4BsvNNyZ_X"
      },
      "outputs": [],
      "source": [
        "import numpy as np\n",
        "import pandas as pd\n",
        "import matplotlib.pyplot as plt\n",
        "import seaborn as sns\n",
        "\n",
        "%matplotlib inline\n",
        "plt.rcParams.update({'font.size':10})\n",
        "\n",
        "from sklearn.preprocessing import StandardScaler, MinMaxScaler\n",
        "from sklearn.model_selection import train_test_split, ShuffleSplit, cross_val_score, learning_curve\n",
        "from sklearn.model_selection import KFold, GridSearchCV, RandomizedSearchCV\n",
        "from sklearn.metrics import classification_report, f1_score, precision_score, recall_score\n",
        "\n",
        "from sklearn.linear_model import LogisticRegression\n",
        "from sklearn.neighbors import KNeighborsClassifier\n",
        "import lightgbm as lgbm"
      ]
    },
    {
      "cell_type": "code",
      "execution_count": 3,
      "metadata": {
        "id": "zXTSNjkMJIyY"
      },
      "outputs": [],
      "source": [
        "import warnings\n",
        "warnings.filterwarnings ('ignore')"
      ]
    },
    {
      "cell_type": "code",
      "execution_count": 4,
      "metadata": {
        "id": "cIxyppCtN71x"
      },
      "outputs": [],
      "source": [
        "def balance_df_by_target(df, target_name):\n",
        "\n",
        "    target_counts = df[target_name].value_counts()\n",
        "\n",
        "    major_class_name = target_counts.argmax()\n",
        "    minor_class_name = target_counts.argmin()\n",
        "\n",
        "    disbalance_coeff = int(target_counts[major_class_name] / target_counts[minor_class_name]) - 1\n",
        "\n",
        "    for i in range(disbalance_coeff):\n",
        "        sample = df[df[target_name] == minor_class_name].sample(target_counts[minor_class_name])\n",
        "        df = df.append(sample, ignore_index=True)\n",
        "\n",
        "    return df.sample(frac=1) "
      ]
    },
    {
      "cell_type": "code",
      "execution_count": 5,
      "metadata": {
        "id": "s_uC_HqpO4cm"
      },
      "outputs": [],
      "source": [
        "def get_classification_report(y_train_true, y_train_pred, y_test_true, y_test_pred):\n",
        "    print('TRAIN\\n\\n' + classification_report(y_train_true, y_train_pred))\n",
        "    print('TEST\\n\\n' + classification_report(y_test_true, y_test_pred))\n",
        "    print('CONFUSION MATRIX\\n')\n",
        "    print(pd.crosstab(y_test_true, y_test_pred))"
      ]
    },
    {
      "cell_type": "code",
      "execution_count": 6,
      "metadata": {
        "id": "i3QFF6pmBcW2"
      },
      "outputs": [],
      "source": [
        "def show_proba_calibration_plots(y_predicted_probs, y_true_labels):\n",
        "    preds_with_true_labels = np.array(list(zip(y_predicted_probs, y_true_labels)))\n",
        "\n",
        "    thresholds = []\n",
        "    precisions = []\n",
        "    recalls = []\n",
        "    f1_scores = []\n",
        "\n",
        "    for threshold in np.linspace(0.1, 0.9, 9):\n",
        "        thresholds.append(threshold)\n",
        "        precisions.append(precision_score(y_true_labels, list(map(int, y_predicted_probs > threshold))))\n",
        "        recalls.append(recall_score(y_true_labels, list(map(int, y_predicted_probs > threshold))))\n",
        "        f1_scores.append(f1_score(y_true_labels, list(map(int, y_predicted_probs > threshold))))\n",
        "\n",
        "    scores_table = pd.DataFrame({'f1':f1_scores,\n",
        "                                 'precision':precisions,\n",
        "                                 'recall':recalls,\n",
        "                                 'probability':thresholds}).sort_values('f1', ascending=False).round(3)\n",
        "  \n",
        "    figure = plt.figure(figsize = (9, 4))\n",
        "\n",
        "    plt1 = figure.add_subplot(121)\n",
        "    plt1.plot(thresholds, precisions, label='Precision', linewidth=2)\n",
        "    plt1.plot(thresholds, recalls, label='Recall', linewidth=2)\n",
        "    plt1.plot(thresholds, f1_scores, label='F1', linewidth=2)\n",
        "    plt1.set_ylabel('Scores')\n",
        "    plt1.set_xlabel('Probability threshold')\n",
        "    plt1.set_title('Probabilities threshold calibration')\n",
        "    plt1.legend(bbox_to_anchor=(0.1, 0.1))   \n",
        "    plt1.table(cellText = scores_table.values,\n",
        "               colLabels = scores_table.columns, \n",
        "               colLoc = 'center', cellLoc = 'center', loc = 'bottom', bbox = [0, -1.3, 1, 1])\n",
        "\n",
        "    plt2 = figure.add_subplot(122)\n",
        "    plt2.hist(preds_with_true_labels[preds_with_true_labels[:, 1] == 0][:, 0], \n",
        "              label='Another class', color='royalblue', alpha=1)\n",
        "    plt2.hist(preds_with_true_labels[preds_with_true_labels[:, 1] == 1][:, 0], \n",
        "              label='Main class', color='darkcyan', alpha=0.8)\n",
        "    plt2.set_ylabel('Number of examples')\n",
        "    plt2.set_xlabel('Probabilities')\n",
        "    plt2.set_title('Probability histogram')\n",
        "    plt2.legend(bbox_to_anchor=(1, 1))\n",
        "\n",
        "    plt.show()"
      ]
    },
    {
      "cell_type": "code",
      "execution_count": 7,
      "metadata": {
        "id": "bTlxB87PB0jP"
      },
      "outputs": [],
      "source": [
        "def show_learning_curve_plot(estimator, X, y, cv=3, n_jobs=-1, train_sizes=np.linspace(.1, 1.0, 5)):\n",
        "\n",
        "    train_sizes, train_scores, test_scores = learning_curve(estimator, X, y, \n",
        "                                                            cv=cv, \n",
        "                                                            scoring='f1',\n",
        "                                                            train_sizes=train_sizes, \n",
        "                                                            n_jobs=n_jobs)\n",
        "    train_scores_mean = np.mean(train_scores, axis=1)\n",
        "    train_scores_std = np.std(train_scores, axis=1)\n",
        "    test_scores_mean = np.mean(test_scores, axis=1)\n",
        "    test_scores_std = np.std(test_scores, axis=1)\n",
        "\n",
        "    plt.figure(figsize=(7,4))\n",
        "    plt.fill_between(train_sizes, train_scores_mean - train_scores_std,\n",
        "                     train_scores_mean + train_scores_std, alpha=0.1, color=\"r\")\n",
        "    plt.fill_between(train_sizes, test_scores_mean - test_scores_std,\n",
        "                     test_scores_mean + test_scores_std, alpha=0.1, color=\"g\")\n",
        "    plt.plot(train_sizes, train_scores_mean, 'o-', color=\"r\",\n",
        "             label=\"Training score\")\n",
        "    plt.plot(train_sizes, test_scores_mean, 'o-', color=\"g\",\n",
        "             label=\"Cross-validation score\")\n",
        "\n",
        "    plt.title(f\"Learning curves ({type(estimator).__name__})\")\n",
        "    plt.xlabel(\"Training examples\")\n",
        "    plt.ylabel(\"Score\")     \n",
        "    plt.legend(loc=\"best\")\n",
        "    plt.grid()\n",
        "    plt.show()"
      ]
    },
    {
      "cell_type": "markdown",
      "metadata": {
        "id": "lNvyd6oRNzDo"
      },
      "source": [
        "### Пути к директориям и файлам"
      ]
    },
    {
      "cell_type": "code",
      "execution_count": 8,
      "metadata": {
        "id": "pLTyCj3CJRx8"
      },
      "outputs": [],
      "source": [
        "TRAIN_DATASET_PATH = 'course_project_train.csv'\n",
        "TEST_DATASET_PATH = 'course_project_test.csv'\n",
        "MPozdnyakova_predictions = 'MPozdnyakova_predictions.csv'"
      ]
    },
    {
      "cell_type": "markdown",
      "metadata": {
        "id": "X-LVqZlnPj5C"
      },
      "source": [
        "##Описание датасета\n",
        "Home Ownership - домовладение\n",
        "\n",
        "Annual Income\t- годовой доход\n",
        "\n",
        "Years in current job - лет на текущем месте работы\t\n",
        "\n",
        "Tax Liens\t- налог\n",
        "\n",
        "Number of Open Accounts\t- количество открытых счетов\n",
        "\n",
        "Years of Credit History - лет кредитной истории\n",
        "\n",
        "Maximum Open Credit\t- максимальный открытый кредит\n",
        "\n",
        "Number of Credit Problems - количество кредитных проблем\n",
        "\n",
        "Months since last delinquent - месяцев с момента последнего правонарушения\n",
        "\n",
        "Bankruptcies - банкротства\n",
        "\n",
        "Purpose\t- цель\n",
        "\n",
        "Term - срок\n",
        "\n",
        "Current Loan Amount - текущая сумма кредита\t\n",
        "\n",
        "Current Credit Balance - текущий кредитный баланс\n",
        "\n",
        "Monthly Debt -ежемесячный платёж\n",
        "\n",
        "Credit Score - кредитный реётинг\n",
        "\n",
        "Credit Default - кредитный дефолт"
      ]
    },
    {
      "cell_type": "code",
      "execution_count": 9,
      "metadata": {
        "id": "hWlA-eX7J_Jz",
        "colab": {
          "base_uri": "https://localhost:8080/",
          "height": 409
        },
        "outputId": "1937278b-407d-4baf-b49e-48ec5f6a38cf"
      },
      "outputs": [
        {
          "output_type": "execute_result",
          "data": {
            "text/plain": [
              "  Home Ownership  Annual Income Years in current job  Tax Liens  \\\n",
              "0       Own Home       482087.0                  NaN        0.0   \n",
              "1       Own Home      1025487.0            10+ years        0.0   \n",
              "2  Home Mortgage       751412.0              8 years        0.0   \n",
              "3       Own Home       805068.0              6 years        0.0   \n",
              "4           Rent       776264.0              8 years        0.0   \n",
              "\n",
              "   Number of Open Accounts  Years of Credit History  Maximum Open Credit  \\\n",
              "0                     11.0                     26.3             685960.0   \n",
              "1                     15.0                     15.3            1181730.0   \n",
              "2                     11.0                     35.0            1182434.0   \n",
              "3                      8.0                     22.5             147400.0   \n",
              "4                     13.0                     13.6             385836.0   \n",
              "\n",
              "   Number of Credit Problems  Months since last delinquent  Bankruptcies  \\\n",
              "0                        1.0                           NaN           1.0   \n",
              "1                        0.0                           NaN           0.0   \n",
              "2                        0.0                           NaN           0.0   \n",
              "3                        1.0                           NaN           1.0   \n",
              "4                        1.0                           NaN           0.0   \n",
              "\n",
              "              Purpose        Term  Current Loan Amount  \\\n",
              "0  debt consolidation  Short Term           99999999.0   \n",
              "1  debt consolidation   Long Term             264968.0   \n",
              "2  debt consolidation  Short Term           99999999.0   \n",
              "3  debt consolidation  Short Term             121396.0   \n",
              "4  debt consolidation  Short Term             125840.0   \n",
              "\n",
              "   Current Credit Balance  Monthly Debt  Credit Score  Credit Default  \n",
              "0                 47386.0        7914.0         749.0               0  \n",
              "1                394972.0       18373.0         737.0               1  \n",
              "2                308389.0       13651.0         742.0               0  \n",
              "3                 95855.0       11338.0         694.0               0  \n",
              "4                 93309.0        7180.0         719.0               0  "
            ],
            "text/html": [
              "\n",
              "  <div id=\"df-4b2bab3b-4269-44b2-974a-d5446de46f4d\">\n",
              "    <div class=\"colab-df-container\">\n",
              "      <div>\n",
              "<style scoped>\n",
              "    .dataframe tbody tr th:only-of-type {\n",
              "        vertical-align: middle;\n",
              "    }\n",
              "\n",
              "    .dataframe tbody tr th {\n",
              "        vertical-align: top;\n",
              "    }\n",
              "\n",
              "    .dataframe thead th {\n",
              "        text-align: right;\n",
              "    }\n",
              "</style>\n",
              "<table border=\"1\" class=\"dataframe\">\n",
              "  <thead>\n",
              "    <tr style=\"text-align: right;\">\n",
              "      <th></th>\n",
              "      <th>Home Ownership</th>\n",
              "      <th>Annual Income</th>\n",
              "      <th>Years in current job</th>\n",
              "      <th>Tax Liens</th>\n",
              "      <th>Number of Open Accounts</th>\n",
              "      <th>Years of Credit History</th>\n",
              "      <th>Maximum Open Credit</th>\n",
              "      <th>Number of Credit Problems</th>\n",
              "      <th>Months since last delinquent</th>\n",
              "      <th>Bankruptcies</th>\n",
              "      <th>Purpose</th>\n",
              "      <th>Term</th>\n",
              "      <th>Current Loan Amount</th>\n",
              "      <th>Current Credit Balance</th>\n",
              "      <th>Monthly Debt</th>\n",
              "      <th>Credit Score</th>\n",
              "      <th>Credit Default</th>\n",
              "    </tr>\n",
              "  </thead>\n",
              "  <tbody>\n",
              "    <tr>\n",
              "      <th>0</th>\n",
              "      <td>Own Home</td>\n",
              "      <td>482087.0</td>\n",
              "      <td>NaN</td>\n",
              "      <td>0.0</td>\n",
              "      <td>11.0</td>\n",
              "      <td>26.3</td>\n",
              "      <td>685960.0</td>\n",
              "      <td>1.0</td>\n",
              "      <td>NaN</td>\n",
              "      <td>1.0</td>\n",
              "      <td>debt consolidation</td>\n",
              "      <td>Short Term</td>\n",
              "      <td>99999999.0</td>\n",
              "      <td>47386.0</td>\n",
              "      <td>7914.0</td>\n",
              "      <td>749.0</td>\n",
              "      <td>0</td>\n",
              "    </tr>\n",
              "    <tr>\n",
              "      <th>1</th>\n",
              "      <td>Own Home</td>\n",
              "      <td>1025487.0</td>\n",
              "      <td>10+ years</td>\n",
              "      <td>0.0</td>\n",
              "      <td>15.0</td>\n",
              "      <td>15.3</td>\n",
              "      <td>1181730.0</td>\n",
              "      <td>0.0</td>\n",
              "      <td>NaN</td>\n",
              "      <td>0.0</td>\n",
              "      <td>debt consolidation</td>\n",
              "      <td>Long Term</td>\n",
              "      <td>264968.0</td>\n",
              "      <td>394972.0</td>\n",
              "      <td>18373.0</td>\n",
              "      <td>737.0</td>\n",
              "      <td>1</td>\n",
              "    </tr>\n",
              "    <tr>\n",
              "      <th>2</th>\n",
              "      <td>Home Mortgage</td>\n",
              "      <td>751412.0</td>\n",
              "      <td>8 years</td>\n",
              "      <td>0.0</td>\n",
              "      <td>11.0</td>\n",
              "      <td>35.0</td>\n",
              "      <td>1182434.0</td>\n",
              "      <td>0.0</td>\n",
              "      <td>NaN</td>\n",
              "      <td>0.0</td>\n",
              "      <td>debt consolidation</td>\n",
              "      <td>Short Term</td>\n",
              "      <td>99999999.0</td>\n",
              "      <td>308389.0</td>\n",
              "      <td>13651.0</td>\n",
              "      <td>742.0</td>\n",
              "      <td>0</td>\n",
              "    </tr>\n",
              "    <tr>\n",
              "      <th>3</th>\n",
              "      <td>Own Home</td>\n",
              "      <td>805068.0</td>\n",
              "      <td>6 years</td>\n",
              "      <td>0.0</td>\n",
              "      <td>8.0</td>\n",
              "      <td>22.5</td>\n",
              "      <td>147400.0</td>\n",
              "      <td>1.0</td>\n",
              "      <td>NaN</td>\n",
              "      <td>1.0</td>\n",
              "      <td>debt consolidation</td>\n",
              "      <td>Short Term</td>\n",
              "      <td>121396.0</td>\n",
              "      <td>95855.0</td>\n",
              "      <td>11338.0</td>\n",
              "      <td>694.0</td>\n",
              "      <td>0</td>\n",
              "    </tr>\n",
              "    <tr>\n",
              "      <th>4</th>\n",
              "      <td>Rent</td>\n",
              "      <td>776264.0</td>\n",
              "      <td>8 years</td>\n",
              "      <td>0.0</td>\n",
              "      <td>13.0</td>\n",
              "      <td>13.6</td>\n",
              "      <td>385836.0</td>\n",
              "      <td>1.0</td>\n",
              "      <td>NaN</td>\n",
              "      <td>0.0</td>\n",
              "      <td>debt consolidation</td>\n",
              "      <td>Short Term</td>\n",
              "      <td>125840.0</td>\n",
              "      <td>93309.0</td>\n",
              "      <td>7180.0</td>\n",
              "      <td>719.0</td>\n",
              "      <td>0</td>\n",
              "    </tr>\n",
              "  </tbody>\n",
              "</table>\n",
              "</div>\n",
              "      <button class=\"colab-df-convert\" onclick=\"convertToInteractive('df-4b2bab3b-4269-44b2-974a-d5446de46f4d')\"\n",
              "              title=\"Convert this dataframe to an interactive table.\"\n",
              "              style=\"display:none;\">\n",
              "        \n",
              "  <svg xmlns=\"http://www.w3.org/2000/svg\" height=\"24px\"viewBox=\"0 0 24 24\"\n",
              "       width=\"24px\">\n",
              "    <path d=\"M0 0h24v24H0V0z\" fill=\"none\"/>\n",
              "    <path d=\"M18.56 5.44l.94 2.06.94-2.06 2.06-.94-2.06-.94-.94-2.06-.94 2.06-2.06.94zm-11 1L8.5 8.5l.94-2.06 2.06-.94-2.06-.94L8.5 2.5l-.94 2.06-2.06.94zm10 10l.94 2.06.94-2.06 2.06-.94-2.06-.94-.94-2.06-.94 2.06-2.06.94z\"/><path d=\"M17.41 7.96l-1.37-1.37c-.4-.4-.92-.59-1.43-.59-.52 0-1.04.2-1.43.59L10.3 9.45l-7.72 7.72c-.78.78-.78 2.05 0 2.83L4 21.41c.39.39.9.59 1.41.59.51 0 1.02-.2 1.41-.59l7.78-7.78 2.81-2.81c.8-.78.8-2.07 0-2.86zM5.41 20L4 18.59l7.72-7.72 1.47 1.35L5.41 20z\"/>\n",
              "  </svg>\n",
              "      </button>\n",
              "      \n",
              "  <style>\n",
              "    .colab-df-container {\n",
              "      display:flex;\n",
              "      flex-wrap:wrap;\n",
              "      gap: 12px;\n",
              "    }\n",
              "\n",
              "    .colab-df-convert {\n",
              "      background-color: #E8F0FE;\n",
              "      border: none;\n",
              "      border-radius: 50%;\n",
              "      cursor: pointer;\n",
              "      display: none;\n",
              "      fill: #1967D2;\n",
              "      height: 32px;\n",
              "      padding: 0 0 0 0;\n",
              "      width: 32px;\n",
              "    }\n",
              "\n",
              "    .colab-df-convert:hover {\n",
              "      background-color: #E2EBFA;\n",
              "      box-shadow: 0px 1px 2px rgba(60, 64, 67, 0.3), 0px 1px 3px 1px rgba(60, 64, 67, 0.15);\n",
              "      fill: #174EA6;\n",
              "    }\n",
              "\n",
              "    [theme=dark] .colab-df-convert {\n",
              "      background-color: #3B4455;\n",
              "      fill: #D2E3FC;\n",
              "    }\n",
              "\n",
              "    [theme=dark] .colab-df-convert:hover {\n",
              "      background-color: #434B5C;\n",
              "      box-shadow: 0px 1px 3px 1px rgba(0, 0, 0, 0.15);\n",
              "      filter: drop-shadow(0px 1px 2px rgba(0, 0, 0, 0.3));\n",
              "      fill: #FFFFFF;\n",
              "    }\n",
              "  </style>\n",
              "\n",
              "      <script>\n",
              "        const buttonEl =\n",
              "          document.querySelector('#df-4b2bab3b-4269-44b2-974a-d5446de46f4d button.colab-df-convert');\n",
              "        buttonEl.style.display =\n",
              "          google.colab.kernel.accessAllowed ? 'block' : 'none';\n",
              "\n",
              "        async function convertToInteractive(key) {\n",
              "          const element = document.querySelector('#df-4b2bab3b-4269-44b2-974a-d5446de46f4d');\n",
              "          const dataTable =\n",
              "            await google.colab.kernel.invokeFunction('convertToInteractive',\n",
              "                                                     [key], {});\n",
              "          if (!dataTable) return;\n",
              "\n",
              "          const docLinkHtml = 'Like what you see? Visit the ' +\n",
              "            '<a target=\"_blank\" href=https://colab.research.google.com/notebooks/data_table.ipynb>data table notebook</a>'\n",
              "            + ' to learn more about interactive tables.';\n",
              "          element.innerHTML = '';\n",
              "          dataTable['output_type'] = 'display_data';\n",
              "          await google.colab.output.renderOutput(dataTable, element);\n",
              "          const docLink = document.createElement('div');\n",
              "          docLink.innerHTML = docLinkHtml;\n",
              "          element.appendChild(docLink);\n",
              "        }\n",
              "      </script>\n",
              "    </div>\n",
              "  </div>\n",
              "  "
            ]
          },
          "metadata": {},
          "execution_count": 9
        }
      ],
      "source": [
        "train_df = pd.read_csv(TRAIN_DATASET_PATH)\n",
        "train_df.head()"
      ]
    },
    {
      "cell_type": "code",
      "execution_count": 10,
      "metadata": {
        "id": "QxH_6KcaKRbD",
        "colab": {
          "base_uri": "https://localhost:8080/"
        },
        "outputId": "c0bdc03a-972c-416f-86d8-5b66e4579d37"
      },
      "outputs": [
        {
          "output_type": "execute_result",
          "data": {
            "text/plain": [
              "(7500, 17)"
            ]
          },
          "metadata": {},
          "execution_count": 10
        }
      ],
      "source": [
        "train_df.shape"
      ]
    },
    {
      "cell_type": "code",
      "execution_count": 11,
      "metadata": {
        "id": "KhmkXm4cnNgO",
        "colab": {
          "base_uri": "https://localhost:8080/",
          "height": 409
        },
        "outputId": "84e8f418-4d8b-4a99-cb2e-fad2ee72f831"
      },
      "outputs": [
        {
          "output_type": "execute_result",
          "data": {
            "text/plain": [
              "  Home Ownership  Annual Income Years in current job  Tax Liens  \\\n",
              "0           Rent            NaN              4 years        0.0   \n",
              "1           Rent       231838.0               1 year        0.0   \n",
              "2  Home Mortgage      1152540.0              3 years        0.0   \n",
              "3  Home Mortgage      1220313.0            10+ years        0.0   \n",
              "4  Home Mortgage      2340952.0              6 years        0.0   \n",
              "\n",
              "   Number of Open Accounts  Years of Credit History  Maximum Open Credit  \\\n",
              "0                      9.0                     12.5             220968.0   \n",
              "1                      6.0                     32.7              55946.0   \n",
              "2                     10.0                     13.7             204600.0   \n",
              "3                     16.0                     17.0             456302.0   \n",
              "4                     11.0                     23.6            1207272.0   \n",
              "\n",
              "   Number of Credit Problems  Months since last delinquent  Bankruptcies  \\\n",
              "0                        0.0                          70.0           0.0   \n",
              "1                        0.0                           8.0           0.0   \n",
              "2                        0.0                           NaN           0.0   \n",
              "3                        0.0                          70.0           0.0   \n",
              "4                        0.0                           NaN           0.0   \n",
              "\n",
              "                Purpose        Term  Current Loan Amount  \\\n",
              "0    debt consolidation  Short Term             162470.0   \n",
              "1  educational expenses  Short Term              78298.0   \n",
              "2    debt consolidation  Short Term             200178.0   \n",
              "3    debt consolidation  Short Term             217382.0   \n",
              "4    debt consolidation   Long Term             777634.0   \n",
              "\n",
              "   Current Credit Balance  Monthly Debt  Credit Score  \n",
              "0                105906.0        6813.0           NaN  \n",
              "1                 46037.0        2318.0         699.0  \n",
              "2                146490.0       18729.0        7260.0  \n",
              "3                213199.0       27559.0         739.0  \n",
              "4                425391.0       42605.0         706.0  "
            ],
            "text/html": [
              "\n",
              "  <div id=\"df-e72add1b-db82-45df-ac42-f396ab70ac78\">\n",
              "    <div class=\"colab-df-container\">\n",
              "      <div>\n",
              "<style scoped>\n",
              "    .dataframe tbody tr th:only-of-type {\n",
              "        vertical-align: middle;\n",
              "    }\n",
              "\n",
              "    .dataframe tbody tr th {\n",
              "        vertical-align: top;\n",
              "    }\n",
              "\n",
              "    .dataframe thead th {\n",
              "        text-align: right;\n",
              "    }\n",
              "</style>\n",
              "<table border=\"1\" class=\"dataframe\">\n",
              "  <thead>\n",
              "    <tr style=\"text-align: right;\">\n",
              "      <th></th>\n",
              "      <th>Home Ownership</th>\n",
              "      <th>Annual Income</th>\n",
              "      <th>Years in current job</th>\n",
              "      <th>Tax Liens</th>\n",
              "      <th>Number of Open Accounts</th>\n",
              "      <th>Years of Credit History</th>\n",
              "      <th>Maximum Open Credit</th>\n",
              "      <th>Number of Credit Problems</th>\n",
              "      <th>Months since last delinquent</th>\n",
              "      <th>Bankruptcies</th>\n",
              "      <th>Purpose</th>\n",
              "      <th>Term</th>\n",
              "      <th>Current Loan Amount</th>\n",
              "      <th>Current Credit Balance</th>\n",
              "      <th>Monthly Debt</th>\n",
              "      <th>Credit Score</th>\n",
              "    </tr>\n",
              "  </thead>\n",
              "  <tbody>\n",
              "    <tr>\n",
              "      <th>0</th>\n",
              "      <td>Rent</td>\n",
              "      <td>NaN</td>\n",
              "      <td>4 years</td>\n",
              "      <td>0.0</td>\n",
              "      <td>9.0</td>\n",
              "      <td>12.5</td>\n",
              "      <td>220968.0</td>\n",
              "      <td>0.0</td>\n",
              "      <td>70.0</td>\n",
              "      <td>0.0</td>\n",
              "      <td>debt consolidation</td>\n",
              "      <td>Short Term</td>\n",
              "      <td>162470.0</td>\n",
              "      <td>105906.0</td>\n",
              "      <td>6813.0</td>\n",
              "      <td>NaN</td>\n",
              "    </tr>\n",
              "    <tr>\n",
              "      <th>1</th>\n",
              "      <td>Rent</td>\n",
              "      <td>231838.0</td>\n",
              "      <td>1 year</td>\n",
              "      <td>0.0</td>\n",
              "      <td>6.0</td>\n",
              "      <td>32.7</td>\n",
              "      <td>55946.0</td>\n",
              "      <td>0.0</td>\n",
              "      <td>8.0</td>\n",
              "      <td>0.0</td>\n",
              "      <td>educational expenses</td>\n",
              "      <td>Short Term</td>\n",
              "      <td>78298.0</td>\n",
              "      <td>46037.0</td>\n",
              "      <td>2318.0</td>\n",
              "      <td>699.0</td>\n",
              "    </tr>\n",
              "    <tr>\n",
              "      <th>2</th>\n",
              "      <td>Home Mortgage</td>\n",
              "      <td>1152540.0</td>\n",
              "      <td>3 years</td>\n",
              "      <td>0.0</td>\n",
              "      <td>10.0</td>\n",
              "      <td>13.7</td>\n",
              "      <td>204600.0</td>\n",
              "      <td>0.0</td>\n",
              "      <td>NaN</td>\n",
              "      <td>0.0</td>\n",
              "      <td>debt consolidation</td>\n",
              "      <td>Short Term</td>\n",
              "      <td>200178.0</td>\n",
              "      <td>146490.0</td>\n",
              "      <td>18729.0</td>\n",
              "      <td>7260.0</td>\n",
              "    </tr>\n",
              "    <tr>\n",
              "      <th>3</th>\n",
              "      <td>Home Mortgage</td>\n",
              "      <td>1220313.0</td>\n",
              "      <td>10+ years</td>\n",
              "      <td>0.0</td>\n",
              "      <td>16.0</td>\n",
              "      <td>17.0</td>\n",
              "      <td>456302.0</td>\n",
              "      <td>0.0</td>\n",
              "      <td>70.0</td>\n",
              "      <td>0.0</td>\n",
              "      <td>debt consolidation</td>\n",
              "      <td>Short Term</td>\n",
              "      <td>217382.0</td>\n",
              "      <td>213199.0</td>\n",
              "      <td>27559.0</td>\n",
              "      <td>739.0</td>\n",
              "    </tr>\n",
              "    <tr>\n",
              "      <th>4</th>\n",
              "      <td>Home Mortgage</td>\n",
              "      <td>2340952.0</td>\n",
              "      <td>6 years</td>\n",
              "      <td>0.0</td>\n",
              "      <td>11.0</td>\n",
              "      <td>23.6</td>\n",
              "      <td>1207272.0</td>\n",
              "      <td>0.0</td>\n",
              "      <td>NaN</td>\n",
              "      <td>0.0</td>\n",
              "      <td>debt consolidation</td>\n",
              "      <td>Long Term</td>\n",
              "      <td>777634.0</td>\n",
              "      <td>425391.0</td>\n",
              "      <td>42605.0</td>\n",
              "      <td>706.0</td>\n",
              "    </tr>\n",
              "  </tbody>\n",
              "</table>\n",
              "</div>\n",
              "      <button class=\"colab-df-convert\" onclick=\"convertToInteractive('df-e72add1b-db82-45df-ac42-f396ab70ac78')\"\n",
              "              title=\"Convert this dataframe to an interactive table.\"\n",
              "              style=\"display:none;\">\n",
              "        \n",
              "  <svg xmlns=\"http://www.w3.org/2000/svg\" height=\"24px\"viewBox=\"0 0 24 24\"\n",
              "       width=\"24px\">\n",
              "    <path d=\"M0 0h24v24H0V0z\" fill=\"none\"/>\n",
              "    <path d=\"M18.56 5.44l.94 2.06.94-2.06 2.06-.94-2.06-.94-.94-2.06-.94 2.06-2.06.94zm-11 1L8.5 8.5l.94-2.06 2.06-.94-2.06-.94L8.5 2.5l-.94 2.06-2.06.94zm10 10l.94 2.06.94-2.06 2.06-.94-2.06-.94-.94-2.06-.94 2.06-2.06.94z\"/><path d=\"M17.41 7.96l-1.37-1.37c-.4-.4-.92-.59-1.43-.59-.52 0-1.04.2-1.43.59L10.3 9.45l-7.72 7.72c-.78.78-.78 2.05 0 2.83L4 21.41c.39.39.9.59 1.41.59.51 0 1.02-.2 1.41-.59l7.78-7.78 2.81-2.81c.8-.78.8-2.07 0-2.86zM5.41 20L4 18.59l7.72-7.72 1.47 1.35L5.41 20z\"/>\n",
              "  </svg>\n",
              "      </button>\n",
              "      \n",
              "  <style>\n",
              "    .colab-df-container {\n",
              "      display:flex;\n",
              "      flex-wrap:wrap;\n",
              "      gap: 12px;\n",
              "    }\n",
              "\n",
              "    .colab-df-convert {\n",
              "      background-color: #E8F0FE;\n",
              "      border: none;\n",
              "      border-radius: 50%;\n",
              "      cursor: pointer;\n",
              "      display: none;\n",
              "      fill: #1967D2;\n",
              "      height: 32px;\n",
              "      padding: 0 0 0 0;\n",
              "      width: 32px;\n",
              "    }\n",
              "\n",
              "    .colab-df-convert:hover {\n",
              "      background-color: #E2EBFA;\n",
              "      box-shadow: 0px 1px 2px rgba(60, 64, 67, 0.3), 0px 1px 3px 1px rgba(60, 64, 67, 0.15);\n",
              "      fill: #174EA6;\n",
              "    }\n",
              "\n",
              "    [theme=dark] .colab-df-convert {\n",
              "      background-color: #3B4455;\n",
              "      fill: #D2E3FC;\n",
              "    }\n",
              "\n",
              "    [theme=dark] .colab-df-convert:hover {\n",
              "      background-color: #434B5C;\n",
              "      box-shadow: 0px 1px 3px 1px rgba(0, 0, 0, 0.15);\n",
              "      filter: drop-shadow(0px 1px 2px rgba(0, 0, 0, 0.3));\n",
              "      fill: #FFFFFF;\n",
              "    }\n",
              "  </style>\n",
              "\n",
              "      <script>\n",
              "        const buttonEl =\n",
              "          document.querySelector('#df-e72add1b-db82-45df-ac42-f396ab70ac78 button.colab-df-convert');\n",
              "        buttonEl.style.display =\n",
              "          google.colab.kernel.accessAllowed ? 'block' : 'none';\n",
              "\n",
              "        async function convertToInteractive(key) {\n",
              "          const element = document.querySelector('#df-e72add1b-db82-45df-ac42-f396ab70ac78');\n",
              "          const dataTable =\n",
              "            await google.colab.kernel.invokeFunction('convertToInteractive',\n",
              "                                                     [key], {});\n",
              "          if (!dataTable) return;\n",
              "\n",
              "          const docLinkHtml = 'Like what you see? Visit the ' +\n",
              "            '<a target=\"_blank\" href=https://colab.research.google.com/notebooks/data_table.ipynb>data table notebook</a>'\n",
              "            + ' to learn more about interactive tables.';\n",
              "          element.innerHTML = '';\n",
              "          dataTable['output_type'] = 'display_data';\n",
              "          await google.colab.output.renderOutput(dataTable, element);\n",
              "          const docLink = document.createElement('div');\n",
              "          docLink.innerHTML = docLinkHtml;\n",
              "          element.appendChild(docLink);\n",
              "        }\n",
              "      </script>\n",
              "    </div>\n",
              "  </div>\n",
              "  "
            ]
          },
          "metadata": {},
          "execution_count": 11
        }
      ],
      "source": [
        "test_df = pd.read_csv(TEST_DATASET_PATH)\n",
        "test_df.head()"
      ]
    },
    {
      "cell_type": "code",
      "execution_count": 12,
      "metadata": {
        "id": "ANlj2IdTNxDV",
        "colab": {
          "base_uri": "https://localhost:8080/"
        },
        "outputId": "89375b6e-031f-416d-ae6a-414613601de3"
      },
      "outputs": [
        {
          "output_type": "stream",
          "name": "stdout",
          "text": [
            "<class 'pandas.core.frame.DataFrame'>\n",
            "RangeIndex: 7500 entries, 0 to 7499\n",
            "Data columns (total 17 columns):\n",
            " #   Column                        Non-Null Count  Dtype  \n",
            "---  ------                        --------------  -----  \n",
            " 0   Home Ownership                7500 non-null   object \n",
            " 1   Annual Income                 5943 non-null   float64\n",
            " 2   Years in current job          7129 non-null   object \n",
            " 3   Tax Liens                     7500 non-null   float64\n",
            " 4   Number of Open Accounts       7500 non-null   float64\n",
            " 5   Years of Credit History       7500 non-null   float64\n",
            " 6   Maximum Open Credit           7500 non-null   float64\n",
            " 7   Number of Credit Problems     7500 non-null   float64\n",
            " 8   Months since last delinquent  3419 non-null   float64\n",
            " 9   Bankruptcies                  7486 non-null   float64\n",
            " 10  Purpose                       7500 non-null   object \n",
            " 11  Term                          7500 non-null   object \n",
            " 12  Current Loan Amount           7500 non-null   float64\n",
            " 13  Current Credit Balance        7500 non-null   float64\n",
            " 14  Monthly Debt                  7500 non-null   float64\n",
            " 15  Credit Score                  5943 non-null   float64\n",
            " 16  Credit Default                7500 non-null   int64  \n",
            "dtypes: float64(12), int64(1), object(4)\n",
            "memory usage: 996.2+ KB\n"
          ]
        }
      ],
      "source": [
        "train_df.info()"
      ]
    },
    {
      "cell_type": "code",
      "execution_count": 13,
      "metadata": {
        "id": "R8bN0TXqnkJa",
        "colab": {
          "base_uri": "https://localhost:8080/"
        },
        "outputId": "9f73018f-41c3-4e1a-db1f-925923ecdcfc"
      },
      "outputs": [
        {
          "output_type": "stream",
          "name": "stdout",
          "text": [
            "<class 'pandas.core.frame.DataFrame'>\n",
            "RangeIndex: 2500 entries, 0 to 2499\n",
            "Data columns (total 16 columns):\n",
            " #   Column                        Non-Null Count  Dtype  \n",
            "---  ------                        --------------  -----  \n",
            " 0   Home Ownership                2500 non-null   object \n",
            " 1   Annual Income                 1987 non-null   float64\n",
            " 2   Years in current job          2414 non-null   object \n",
            " 3   Tax Liens                     2500 non-null   float64\n",
            " 4   Number of Open Accounts       2500 non-null   float64\n",
            " 5   Years of Credit History       2500 non-null   float64\n",
            " 6   Maximum Open Credit           2500 non-null   float64\n",
            " 7   Number of Credit Problems     2500 non-null   float64\n",
            " 8   Months since last delinquent  1142 non-null   float64\n",
            " 9   Bankruptcies                  2497 non-null   float64\n",
            " 10  Purpose                       2500 non-null   object \n",
            " 11  Term                          2500 non-null   object \n",
            " 12  Current Loan Amount           2500 non-null   float64\n",
            " 13  Current Credit Balance        2500 non-null   float64\n",
            " 14  Monthly Debt                  2500 non-null   float64\n",
            " 15  Credit Score                  1987 non-null   float64\n",
            "dtypes: float64(12), object(4)\n",
            "memory usage: 312.6+ KB\n"
          ]
        }
      ],
      "source": [
        "test_df.info()"
      ]
    },
    {
      "cell_type": "code",
      "execution_count": 14,
      "metadata": {
        "id": "EOLCoJztPI-7",
        "colab": {
          "base_uri": "https://localhost:8080/"
        },
        "outputId": "62bc78bb-b2ca-41fa-d128-ae477a35734c"
      },
      "outputs": [
        {
          "output_type": "execute_result",
          "data": {
            "text/plain": [
              "10+ years    2332\n",
              "2 years       705\n",
              "3 years       620\n",
              "< 1 year      563\n",
              "5 years       516\n",
              "1 year        504\n",
              "4 years       469\n",
              "6 years       426\n",
              "7 years       396\n",
              "8 years       339\n",
              "9 years       259\n",
              "Name: Years in current job, dtype: int64"
            ]
          },
          "metadata": {},
          "execution_count": 14
        }
      ],
      "source": [
        "train_df['Years in current job'].value_counts()"
      ]
    },
    {
      "cell_type": "code",
      "execution_count": 15,
      "metadata": {
        "id": "STKJiR-CSiVn"
      },
      "outputs": [],
      "source": [
        "for colname in ['Tax Liens', 'Number of Credit Problems', 'Bankruptcies']:\n",
        "  train_df[colname] = train_df[colname].astype(str)"
      ]
    },
    {
      "cell_type": "code",
      "execution_count": 16,
      "metadata": {
        "id": "jJxGq3s_Xz_8",
        "colab": {
          "base_uri": "https://localhost:8080/"
        },
        "outputId": "4bd67503-5ae3-4615-b0cc-07bd9988fd0a"
      },
      "outputs": [
        {
          "output_type": "execute_result",
          "data": {
            "text/plain": [
              "Home Ownership                   object\n",
              "Annual Income                   float64\n",
              "Years in current job             object\n",
              "Tax Liens                        object\n",
              "Number of Open Accounts         float64\n",
              "Years of Credit History         float64\n",
              "Maximum Open Credit             float64\n",
              "Number of Credit Problems        object\n",
              "Months since last delinquent    float64\n",
              "Bankruptcies                     object\n",
              "Purpose                          object\n",
              "Term                             object\n",
              "Current Loan Amount             float64\n",
              "Current Credit Balance          float64\n",
              "Monthly Debt                    float64\n",
              "Credit Score                    float64\n",
              "Credit Default                    int64\n",
              "dtype: object"
            ]
          },
          "metadata": {},
          "execution_count": 16
        }
      ],
      "source": [
        "train_df.dtypes"
      ]
    },
    {
      "cell_type": "code",
      "execution_count": 17,
      "metadata": {
        "id": "IQ1J1OFzn6QN"
      },
      "outputs": [],
      "source": [
        "for colname in ['Tax Liens', 'Number of Credit Problems', 'Bankruptcies']:\n",
        "  test_df[colname] = test_df[colname].astype(str)"
      ]
    },
    {
      "cell_type": "code",
      "execution_count": 18,
      "metadata": {
        "colab": {
          "base_uri": "https://localhost:8080/"
        },
        "id": "RAAobDqdoHDJ",
        "outputId": "42cd51b8-667d-4ff9-a46a-83d8530b1698"
      },
      "outputs": [
        {
          "output_type": "execute_result",
          "data": {
            "text/plain": [
              "Home Ownership                   object\n",
              "Annual Income                   float64\n",
              "Years in current job             object\n",
              "Tax Liens                        object\n",
              "Number of Open Accounts         float64\n",
              "Years of Credit History         float64\n",
              "Maximum Open Credit             float64\n",
              "Number of Credit Problems        object\n",
              "Months since last delinquent    float64\n",
              "Bankruptcies                     object\n",
              "Purpose                          object\n",
              "Term                             object\n",
              "Current Loan Amount             float64\n",
              "Current Credit Balance          float64\n",
              "Monthly Debt                    float64\n",
              "Credit Score                    float64\n",
              "dtype: object"
            ]
          },
          "metadata": {},
          "execution_count": 18
        }
      ],
      "source": [
        "test_df.dtypes"
      ]
    },
    {
      "cell_type": "code",
      "execution_count": 19,
      "metadata": {
        "colab": {
          "base_uri": "https://localhost:8080/",
          "height": 399
        },
        "id": "pNshEWJ2YIWZ",
        "outputId": "cfb98438-971e-47ad-86e8-b4fb2977df52"
      },
      "outputs": [
        {
          "output_type": "execute_result",
          "data": {
            "text/plain": [
              "       Annual Income  Number of Open Accounts  Years of Credit History  \\\n",
              "count   5.943000e+03              7500.000000              7500.000000   \n",
              "mean    1.366392e+06                11.130933                18.317467   \n",
              "std     8.453392e+05                 4.908924                 7.041946   \n",
              "min     1.645970e+05                 2.000000                 4.000000   \n",
              "25%     8.443410e+05                 8.000000                13.500000   \n",
              "50%     1.168386e+06                10.000000                17.000000   \n",
              "75%     1.640137e+06                14.000000                21.800000   \n",
              "max     1.014934e+07                43.000000                57.700000   \n",
              "\n",
              "       Maximum Open Credit  Months since last delinquent  Current Loan Amount  \\\n",
              "count         7.500000e+03                   3419.000000         7.500000e+03   \n",
              "mean          9.451537e+05                     34.692600         1.187318e+07   \n",
              "std           1.602622e+07                     21.688806         3.192612e+07   \n",
              "min           0.000000e+00                      0.000000         1.124200e+04   \n",
              "25%           2.792295e+05                     16.000000         1.801690e+05   \n",
              "50%           4.781590e+05                     32.000000         3.095730e+05   \n",
              "75%           7.935015e+05                     50.000000         5.198820e+05   \n",
              "max           1.304726e+09                    118.000000         1.000000e+08   \n",
              "\n",
              "       Current Credit Balance   Monthly Debt  Credit Score  Credit Default  \n",
              "count            7.500000e+03    7500.000000   5943.000000     7500.000000  \n",
              "mean             2.898332e+05   18314.454133   1151.087498        0.281733  \n",
              "std              3.178714e+05   11926.764673   1604.451418        0.449874  \n",
              "min              0.000000e+00       0.000000    585.000000        0.000000  \n",
              "25%              1.142565e+05   10067.500000    711.000000        0.000000  \n",
              "50%              2.093230e+05   16076.500000    731.000000        0.000000  \n",
              "75%              3.604062e+05   23818.000000    743.000000        1.000000  \n",
              "max              6.506797e+06  136679.000000   7510.000000        1.000000  "
            ],
            "text/html": [
              "\n",
              "  <div id=\"df-42ff688e-5ffb-4b49-b2d8-b3e64bf60a23\">\n",
              "    <div class=\"colab-df-container\">\n",
              "      <div>\n",
              "<style scoped>\n",
              "    .dataframe tbody tr th:only-of-type {\n",
              "        vertical-align: middle;\n",
              "    }\n",
              "\n",
              "    .dataframe tbody tr th {\n",
              "        vertical-align: top;\n",
              "    }\n",
              "\n",
              "    .dataframe thead th {\n",
              "        text-align: right;\n",
              "    }\n",
              "</style>\n",
              "<table border=\"1\" class=\"dataframe\">\n",
              "  <thead>\n",
              "    <tr style=\"text-align: right;\">\n",
              "      <th></th>\n",
              "      <th>Annual Income</th>\n",
              "      <th>Number of Open Accounts</th>\n",
              "      <th>Years of Credit History</th>\n",
              "      <th>Maximum Open Credit</th>\n",
              "      <th>Months since last delinquent</th>\n",
              "      <th>Current Loan Amount</th>\n",
              "      <th>Current Credit Balance</th>\n",
              "      <th>Monthly Debt</th>\n",
              "      <th>Credit Score</th>\n",
              "      <th>Credit Default</th>\n",
              "    </tr>\n",
              "  </thead>\n",
              "  <tbody>\n",
              "    <tr>\n",
              "      <th>count</th>\n",
              "      <td>5.943000e+03</td>\n",
              "      <td>7500.000000</td>\n",
              "      <td>7500.000000</td>\n",
              "      <td>7.500000e+03</td>\n",
              "      <td>3419.000000</td>\n",
              "      <td>7.500000e+03</td>\n",
              "      <td>7.500000e+03</td>\n",
              "      <td>7500.000000</td>\n",
              "      <td>5943.000000</td>\n",
              "      <td>7500.000000</td>\n",
              "    </tr>\n",
              "    <tr>\n",
              "      <th>mean</th>\n",
              "      <td>1.366392e+06</td>\n",
              "      <td>11.130933</td>\n",
              "      <td>18.317467</td>\n",
              "      <td>9.451537e+05</td>\n",
              "      <td>34.692600</td>\n",
              "      <td>1.187318e+07</td>\n",
              "      <td>2.898332e+05</td>\n",
              "      <td>18314.454133</td>\n",
              "      <td>1151.087498</td>\n",
              "      <td>0.281733</td>\n",
              "    </tr>\n",
              "    <tr>\n",
              "      <th>std</th>\n",
              "      <td>8.453392e+05</td>\n",
              "      <td>4.908924</td>\n",
              "      <td>7.041946</td>\n",
              "      <td>1.602622e+07</td>\n",
              "      <td>21.688806</td>\n",
              "      <td>3.192612e+07</td>\n",
              "      <td>3.178714e+05</td>\n",
              "      <td>11926.764673</td>\n",
              "      <td>1604.451418</td>\n",
              "      <td>0.449874</td>\n",
              "    </tr>\n",
              "    <tr>\n",
              "      <th>min</th>\n",
              "      <td>1.645970e+05</td>\n",
              "      <td>2.000000</td>\n",
              "      <td>4.000000</td>\n",
              "      <td>0.000000e+00</td>\n",
              "      <td>0.000000</td>\n",
              "      <td>1.124200e+04</td>\n",
              "      <td>0.000000e+00</td>\n",
              "      <td>0.000000</td>\n",
              "      <td>585.000000</td>\n",
              "      <td>0.000000</td>\n",
              "    </tr>\n",
              "    <tr>\n",
              "      <th>25%</th>\n",
              "      <td>8.443410e+05</td>\n",
              "      <td>8.000000</td>\n",
              "      <td>13.500000</td>\n",
              "      <td>2.792295e+05</td>\n",
              "      <td>16.000000</td>\n",
              "      <td>1.801690e+05</td>\n",
              "      <td>1.142565e+05</td>\n",
              "      <td>10067.500000</td>\n",
              "      <td>711.000000</td>\n",
              "      <td>0.000000</td>\n",
              "    </tr>\n",
              "    <tr>\n",
              "      <th>50%</th>\n",
              "      <td>1.168386e+06</td>\n",
              "      <td>10.000000</td>\n",
              "      <td>17.000000</td>\n",
              "      <td>4.781590e+05</td>\n",
              "      <td>32.000000</td>\n",
              "      <td>3.095730e+05</td>\n",
              "      <td>2.093230e+05</td>\n",
              "      <td>16076.500000</td>\n",
              "      <td>731.000000</td>\n",
              "      <td>0.000000</td>\n",
              "    </tr>\n",
              "    <tr>\n",
              "      <th>75%</th>\n",
              "      <td>1.640137e+06</td>\n",
              "      <td>14.000000</td>\n",
              "      <td>21.800000</td>\n",
              "      <td>7.935015e+05</td>\n",
              "      <td>50.000000</td>\n",
              "      <td>5.198820e+05</td>\n",
              "      <td>3.604062e+05</td>\n",
              "      <td>23818.000000</td>\n",
              "      <td>743.000000</td>\n",
              "      <td>1.000000</td>\n",
              "    </tr>\n",
              "    <tr>\n",
              "      <th>max</th>\n",
              "      <td>1.014934e+07</td>\n",
              "      <td>43.000000</td>\n",
              "      <td>57.700000</td>\n",
              "      <td>1.304726e+09</td>\n",
              "      <td>118.000000</td>\n",
              "      <td>1.000000e+08</td>\n",
              "      <td>6.506797e+06</td>\n",
              "      <td>136679.000000</td>\n",
              "      <td>7510.000000</td>\n",
              "      <td>1.000000</td>\n",
              "    </tr>\n",
              "  </tbody>\n",
              "</table>\n",
              "</div>\n",
              "      <button class=\"colab-df-convert\" onclick=\"convertToInteractive('df-42ff688e-5ffb-4b49-b2d8-b3e64bf60a23')\"\n",
              "              title=\"Convert this dataframe to an interactive table.\"\n",
              "              style=\"display:none;\">\n",
              "        \n",
              "  <svg xmlns=\"http://www.w3.org/2000/svg\" height=\"24px\"viewBox=\"0 0 24 24\"\n",
              "       width=\"24px\">\n",
              "    <path d=\"M0 0h24v24H0V0z\" fill=\"none\"/>\n",
              "    <path d=\"M18.56 5.44l.94 2.06.94-2.06 2.06-.94-2.06-.94-.94-2.06-.94 2.06-2.06.94zm-11 1L8.5 8.5l.94-2.06 2.06-.94-2.06-.94L8.5 2.5l-.94 2.06-2.06.94zm10 10l.94 2.06.94-2.06 2.06-.94-2.06-.94-.94-2.06-.94 2.06-2.06.94z\"/><path d=\"M17.41 7.96l-1.37-1.37c-.4-.4-.92-.59-1.43-.59-.52 0-1.04.2-1.43.59L10.3 9.45l-7.72 7.72c-.78.78-.78 2.05 0 2.83L4 21.41c.39.39.9.59 1.41.59.51 0 1.02-.2 1.41-.59l7.78-7.78 2.81-2.81c.8-.78.8-2.07 0-2.86zM5.41 20L4 18.59l7.72-7.72 1.47 1.35L5.41 20z\"/>\n",
              "  </svg>\n",
              "      </button>\n",
              "      \n",
              "  <style>\n",
              "    .colab-df-container {\n",
              "      display:flex;\n",
              "      flex-wrap:wrap;\n",
              "      gap: 12px;\n",
              "    }\n",
              "\n",
              "    .colab-df-convert {\n",
              "      background-color: #E8F0FE;\n",
              "      border: none;\n",
              "      border-radius: 50%;\n",
              "      cursor: pointer;\n",
              "      display: none;\n",
              "      fill: #1967D2;\n",
              "      height: 32px;\n",
              "      padding: 0 0 0 0;\n",
              "      width: 32px;\n",
              "    }\n",
              "\n",
              "    .colab-df-convert:hover {\n",
              "      background-color: #E2EBFA;\n",
              "      box-shadow: 0px 1px 2px rgba(60, 64, 67, 0.3), 0px 1px 3px 1px rgba(60, 64, 67, 0.15);\n",
              "      fill: #174EA6;\n",
              "    }\n",
              "\n",
              "    [theme=dark] .colab-df-convert {\n",
              "      background-color: #3B4455;\n",
              "      fill: #D2E3FC;\n",
              "    }\n",
              "\n",
              "    [theme=dark] .colab-df-convert:hover {\n",
              "      background-color: #434B5C;\n",
              "      box-shadow: 0px 1px 3px 1px rgba(0, 0, 0, 0.15);\n",
              "      filter: drop-shadow(0px 1px 2px rgba(0, 0, 0, 0.3));\n",
              "      fill: #FFFFFF;\n",
              "    }\n",
              "  </style>\n",
              "\n",
              "      <script>\n",
              "        const buttonEl =\n",
              "          document.querySelector('#df-42ff688e-5ffb-4b49-b2d8-b3e64bf60a23 button.colab-df-convert');\n",
              "        buttonEl.style.display =\n",
              "          google.colab.kernel.accessAllowed ? 'block' : 'none';\n",
              "\n",
              "        async function convertToInteractive(key) {\n",
              "          const element = document.querySelector('#df-42ff688e-5ffb-4b49-b2d8-b3e64bf60a23');\n",
              "          const dataTable =\n",
              "            await google.colab.kernel.invokeFunction('convertToInteractive',\n",
              "                                                     [key], {});\n",
              "          if (!dataTable) return;\n",
              "\n",
              "          const docLinkHtml = 'Like what you see? Visit the ' +\n",
              "            '<a target=\"_blank\" href=https://colab.research.google.com/notebooks/data_table.ipynb>data table notebook</a>'\n",
              "            + ' to learn more about interactive tables.';\n",
              "          element.innerHTML = '';\n",
              "          dataTable['output_type'] = 'display_data';\n",
              "          await google.colab.output.renderOutput(dataTable, element);\n",
              "          const docLink = document.createElement('div');\n",
              "          docLink.innerHTML = docLinkHtml;\n",
              "          element.appendChild(docLink);\n",
              "        }\n",
              "      </script>\n",
              "    </div>\n",
              "  </div>\n",
              "  "
            ]
          },
          "metadata": {},
          "execution_count": 19
        }
      ],
      "source": [
        "train_df.describe()"
      ]
    },
    {
      "cell_type": "code",
      "execution_count": 20,
      "metadata": {
        "colab": {
          "base_uri": "https://localhost:8080/",
          "height": 399
        },
        "id": "oUdsgTFyoV-C",
        "outputId": "1ccc37e9-09b7-42db-d48a-de0d6276a08f"
      },
      "outputs": [
        {
          "output_type": "execute_result",
          "data": {
            "text/plain": [
              "       Annual Income  Number of Open Accounts  Years of Credit History  \\\n",
              "count   1.987000e+03              2500.000000              2500.000000   \n",
              "mean    1.366922e+06                11.184400                18.325920   \n",
              "std     9.171252e+05                 4.852774                 7.254659   \n",
              "min     1.065330e+05                 1.000000                 3.900000   \n",
              "25%     8.523115e+05                 8.000000                13.400000   \n",
              "50%     1.178475e+06                10.000000                17.000000   \n",
              "75%     1.629734e+06                14.000000                22.100000   \n",
              "max     1.497561e+07                48.000000                53.400000   \n",
              "\n",
              "       Maximum Open Credit  Months since last delinquent  Current Loan Amount  \\\n",
              "count         2.500000e+03                   1142.000000         2.500000e+03   \n",
              "mean          7.105704e+05                     34.181261         1.215572e+07   \n",
              "std           1.511983e+06                     22.024277         3.226097e+07   \n",
              "min           0.000000e+00                      0.000000         1.542200e+04   \n",
              "25%           2.785860e+05                     16.000000         1.871265e+05   \n",
              "50%           4.786760e+05                     30.000000         3.223660e+05   \n",
              "75%           8.025985e+05                     50.000000         5.225825e+05   \n",
              "max           5.448439e+07                     82.000000         1.000000e+08   \n",
              "\n",
              "       Current Credit Balance  Monthly Debt  Credit Score  \n",
              "count            2.500000e+03   2500.000000   1987.000000  \n",
              "mean             2.963966e+05  18271.340000   1234.516860  \n",
              "std              3.783020e+05  11543.881469   1740.219442  \n",
              "min              0.000000e+00     93.000000    585.000000  \n",
              "25%              1.101145e+05  10024.750000    710.000000  \n",
              "50%              2.073850e+05  16642.500000    731.000000  \n",
              "75%              3.663485e+05  24146.000000    743.000000  \n",
              "max              6.030087e+06  93555.000000   7480.000000  "
            ],
            "text/html": [
              "\n",
              "  <div id=\"df-664756fc-a83d-4882-8a19-dbcbaf4ebe9b\">\n",
              "    <div class=\"colab-df-container\">\n",
              "      <div>\n",
              "<style scoped>\n",
              "    .dataframe tbody tr th:only-of-type {\n",
              "        vertical-align: middle;\n",
              "    }\n",
              "\n",
              "    .dataframe tbody tr th {\n",
              "        vertical-align: top;\n",
              "    }\n",
              "\n",
              "    .dataframe thead th {\n",
              "        text-align: right;\n",
              "    }\n",
              "</style>\n",
              "<table border=\"1\" class=\"dataframe\">\n",
              "  <thead>\n",
              "    <tr style=\"text-align: right;\">\n",
              "      <th></th>\n",
              "      <th>Annual Income</th>\n",
              "      <th>Number of Open Accounts</th>\n",
              "      <th>Years of Credit History</th>\n",
              "      <th>Maximum Open Credit</th>\n",
              "      <th>Months since last delinquent</th>\n",
              "      <th>Current Loan Amount</th>\n",
              "      <th>Current Credit Balance</th>\n",
              "      <th>Monthly Debt</th>\n",
              "      <th>Credit Score</th>\n",
              "    </tr>\n",
              "  </thead>\n",
              "  <tbody>\n",
              "    <tr>\n",
              "      <th>count</th>\n",
              "      <td>1.987000e+03</td>\n",
              "      <td>2500.000000</td>\n",
              "      <td>2500.000000</td>\n",
              "      <td>2.500000e+03</td>\n",
              "      <td>1142.000000</td>\n",
              "      <td>2.500000e+03</td>\n",
              "      <td>2.500000e+03</td>\n",
              "      <td>2500.000000</td>\n",
              "      <td>1987.000000</td>\n",
              "    </tr>\n",
              "    <tr>\n",
              "      <th>mean</th>\n",
              "      <td>1.366922e+06</td>\n",
              "      <td>11.184400</td>\n",
              "      <td>18.325920</td>\n",
              "      <td>7.105704e+05</td>\n",
              "      <td>34.181261</td>\n",
              "      <td>1.215572e+07</td>\n",
              "      <td>2.963966e+05</td>\n",
              "      <td>18271.340000</td>\n",
              "      <td>1234.516860</td>\n",
              "    </tr>\n",
              "    <tr>\n",
              "      <th>std</th>\n",
              "      <td>9.171252e+05</td>\n",
              "      <td>4.852774</td>\n",
              "      <td>7.254659</td>\n",
              "      <td>1.511983e+06</td>\n",
              "      <td>22.024277</td>\n",
              "      <td>3.226097e+07</td>\n",
              "      <td>3.783020e+05</td>\n",
              "      <td>11543.881469</td>\n",
              "      <td>1740.219442</td>\n",
              "    </tr>\n",
              "    <tr>\n",
              "      <th>min</th>\n",
              "      <td>1.065330e+05</td>\n",
              "      <td>1.000000</td>\n",
              "      <td>3.900000</td>\n",
              "      <td>0.000000e+00</td>\n",
              "      <td>0.000000</td>\n",
              "      <td>1.542200e+04</td>\n",
              "      <td>0.000000e+00</td>\n",
              "      <td>93.000000</td>\n",
              "      <td>585.000000</td>\n",
              "    </tr>\n",
              "    <tr>\n",
              "      <th>25%</th>\n",
              "      <td>8.523115e+05</td>\n",
              "      <td>8.000000</td>\n",
              "      <td>13.400000</td>\n",
              "      <td>2.785860e+05</td>\n",
              "      <td>16.000000</td>\n",
              "      <td>1.871265e+05</td>\n",
              "      <td>1.101145e+05</td>\n",
              "      <td>10024.750000</td>\n",
              "      <td>710.000000</td>\n",
              "    </tr>\n",
              "    <tr>\n",
              "      <th>50%</th>\n",
              "      <td>1.178475e+06</td>\n",
              "      <td>10.000000</td>\n",
              "      <td>17.000000</td>\n",
              "      <td>4.786760e+05</td>\n",
              "      <td>30.000000</td>\n",
              "      <td>3.223660e+05</td>\n",
              "      <td>2.073850e+05</td>\n",
              "      <td>16642.500000</td>\n",
              "      <td>731.000000</td>\n",
              "    </tr>\n",
              "    <tr>\n",
              "      <th>75%</th>\n",
              "      <td>1.629734e+06</td>\n",
              "      <td>14.000000</td>\n",
              "      <td>22.100000</td>\n",
              "      <td>8.025985e+05</td>\n",
              "      <td>50.000000</td>\n",
              "      <td>5.225825e+05</td>\n",
              "      <td>3.663485e+05</td>\n",
              "      <td>24146.000000</td>\n",
              "      <td>743.000000</td>\n",
              "    </tr>\n",
              "    <tr>\n",
              "      <th>max</th>\n",
              "      <td>1.497561e+07</td>\n",
              "      <td>48.000000</td>\n",
              "      <td>53.400000</td>\n",
              "      <td>5.448439e+07</td>\n",
              "      <td>82.000000</td>\n",
              "      <td>1.000000e+08</td>\n",
              "      <td>6.030087e+06</td>\n",
              "      <td>93555.000000</td>\n",
              "      <td>7480.000000</td>\n",
              "    </tr>\n",
              "  </tbody>\n",
              "</table>\n",
              "</div>\n",
              "      <button class=\"colab-df-convert\" onclick=\"convertToInteractive('df-664756fc-a83d-4882-8a19-dbcbaf4ebe9b')\"\n",
              "              title=\"Convert this dataframe to an interactive table.\"\n",
              "              style=\"display:none;\">\n",
              "        \n",
              "  <svg xmlns=\"http://www.w3.org/2000/svg\" height=\"24px\"viewBox=\"0 0 24 24\"\n",
              "       width=\"24px\">\n",
              "    <path d=\"M0 0h24v24H0V0z\" fill=\"none\"/>\n",
              "    <path d=\"M18.56 5.44l.94 2.06.94-2.06 2.06-.94-2.06-.94-.94-2.06-.94 2.06-2.06.94zm-11 1L8.5 8.5l.94-2.06 2.06-.94-2.06-.94L8.5 2.5l-.94 2.06-2.06.94zm10 10l.94 2.06.94-2.06 2.06-.94-2.06-.94-.94-2.06-.94 2.06-2.06.94z\"/><path d=\"M17.41 7.96l-1.37-1.37c-.4-.4-.92-.59-1.43-.59-.52 0-1.04.2-1.43.59L10.3 9.45l-7.72 7.72c-.78.78-.78 2.05 0 2.83L4 21.41c.39.39.9.59 1.41.59.51 0 1.02-.2 1.41-.59l7.78-7.78 2.81-2.81c.8-.78.8-2.07 0-2.86zM5.41 20L4 18.59l7.72-7.72 1.47 1.35L5.41 20z\"/>\n",
              "  </svg>\n",
              "      </button>\n",
              "      \n",
              "  <style>\n",
              "    .colab-df-container {\n",
              "      display:flex;\n",
              "      flex-wrap:wrap;\n",
              "      gap: 12px;\n",
              "    }\n",
              "\n",
              "    .colab-df-convert {\n",
              "      background-color: #E8F0FE;\n",
              "      border: none;\n",
              "      border-radius: 50%;\n",
              "      cursor: pointer;\n",
              "      display: none;\n",
              "      fill: #1967D2;\n",
              "      height: 32px;\n",
              "      padding: 0 0 0 0;\n",
              "      width: 32px;\n",
              "    }\n",
              "\n",
              "    .colab-df-convert:hover {\n",
              "      background-color: #E2EBFA;\n",
              "      box-shadow: 0px 1px 2px rgba(60, 64, 67, 0.3), 0px 1px 3px 1px rgba(60, 64, 67, 0.15);\n",
              "      fill: #174EA6;\n",
              "    }\n",
              "\n",
              "    [theme=dark] .colab-df-convert {\n",
              "      background-color: #3B4455;\n",
              "      fill: #D2E3FC;\n",
              "    }\n",
              "\n",
              "    [theme=dark] .colab-df-convert:hover {\n",
              "      background-color: #434B5C;\n",
              "      box-shadow: 0px 1px 3px 1px rgba(0, 0, 0, 0.15);\n",
              "      filter: drop-shadow(0px 1px 2px rgba(0, 0, 0, 0.3));\n",
              "      fill: #FFFFFF;\n",
              "    }\n",
              "  </style>\n",
              "\n",
              "      <script>\n",
              "        const buttonEl =\n",
              "          document.querySelector('#df-664756fc-a83d-4882-8a19-dbcbaf4ebe9b button.colab-df-convert');\n",
              "        buttonEl.style.display =\n",
              "          google.colab.kernel.accessAllowed ? 'block' : 'none';\n",
              "\n",
              "        async function convertToInteractive(key) {\n",
              "          const element = document.querySelector('#df-664756fc-a83d-4882-8a19-dbcbaf4ebe9b');\n",
              "          const dataTable =\n",
              "            await google.colab.kernel.invokeFunction('convertToInteractive',\n",
              "                                                     [key], {});\n",
              "          if (!dataTable) return;\n",
              "\n",
              "          const docLinkHtml = 'Like what you see? Visit the ' +\n",
              "            '<a target=\"_blank\" href=https://colab.research.google.com/notebooks/data_table.ipynb>data table notebook</a>'\n",
              "            + ' to learn more about interactive tables.';\n",
              "          element.innerHTML = '';\n",
              "          dataTable['output_type'] = 'display_data';\n",
              "          await google.colab.output.renderOutput(dataTable, element);\n",
              "          const docLink = document.createElement('div');\n",
              "          docLink.innerHTML = docLinkHtml;\n",
              "          element.appendChild(docLink);\n",
              "        }\n",
              "      </script>\n",
              "    </div>\n",
              "  </div>\n",
              "  "
            ]
          },
          "metadata": {},
          "execution_count": 20
        }
      ],
      "source": [
        "test_df.describe()"
      ]
    },
    {
      "cell_type": "markdown",
      "metadata": {
        "id": "G1n0WSF6aHCZ"
      },
      "source": [
        "###Обработка пропусков"
      ]
    },
    {
      "cell_type": "code",
      "execution_count": 21,
      "metadata": {
        "colab": {
          "base_uri": "https://localhost:8080/"
        },
        "id": "dLI0L7LJjP2B",
        "outputId": "d294cbac-ddd9-48f7-e252-7d44fff10619"
      },
      "outputs": [
        {
          "output_type": "execute_result",
          "data": {
            "text/plain": [
              "Home Ownership                  0.000000\n",
              "Annual Income                   0.207600\n",
              "Years in current job            0.049467\n",
              "Tax Liens                       0.000000\n",
              "Number of Open Accounts         0.000000\n",
              "Years of Credit History         0.000000\n",
              "Maximum Open Credit             0.000000\n",
              "Number of Credit Problems       0.000000\n",
              "Months since last delinquent    0.544133\n",
              "Bankruptcies                    0.000000\n",
              "Purpose                         0.000000\n",
              "Term                            0.000000\n",
              "Current Loan Amount             0.000000\n",
              "Current Credit Balance          0.000000\n",
              "Monthly Debt                    0.000000\n",
              "Credit Score                    0.207600\n",
              "Credit Default                  0.000000\n",
              "dtype: float64"
            ]
          },
          "metadata": {},
          "execution_count": 21
        }
      ],
      "source": [
        "(len(train_df) - train_df.count())/len(train_df)"
      ]
    },
    {
      "cell_type": "code",
      "execution_count": 22,
      "metadata": {
        "colab": {
          "base_uri": "https://localhost:8080/"
        },
        "id": "BsVN9UEVlJe3",
        "outputId": "a9dce1df-b8fc-4471-ab54-a2b7d25b34ea"
      },
      "outputs": [
        {
          "output_type": "execute_result",
          "data": {
            "text/plain": [
              "Home Ownership                  0.0000\n",
              "Annual Income                   0.2052\n",
              "Years in current job            0.0344\n",
              "Tax Liens                       0.0000\n",
              "Number of Open Accounts         0.0000\n",
              "Years of Credit History         0.0000\n",
              "Maximum Open Credit             0.0000\n",
              "Number of Credit Problems       0.0000\n",
              "Months since last delinquent    0.5432\n",
              "Bankruptcies                    0.0000\n",
              "Purpose                         0.0000\n",
              "Term                            0.0000\n",
              "Current Loan Amount             0.0000\n",
              "Current Credit Balance          0.0000\n",
              "Monthly Debt                    0.0000\n",
              "Credit Score                    0.2052\n",
              "dtype: float64"
            ]
          },
          "metadata": {},
          "execution_count": 22
        }
      ],
      "source": [
        "(len(test_df) - test_df.count())/len(test_df)"
      ]
    },
    {
      "cell_type": "code",
      "execution_count": 23,
      "metadata": {
        "colab": {
          "base_uri": "https://localhost:8080/"
        },
        "id": "i6w5ma1eooNq",
        "outputId": "2b1a5410-bbbd-4bd2-b73b-33c646e048a7"
      },
      "outputs": [
        {
          "output_type": "execute_result",
          "data": {
            "text/plain": [
              "1168386.0"
            ]
          },
          "metadata": {},
          "execution_count": 23
        }
      ],
      "source": [
        "train_df['Annual Income'].median()"
      ]
    },
    {
      "cell_type": "code",
      "execution_count": 24,
      "metadata": {
        "colab": {
          "base_uri": "https://localhost:8080/"
        },
        "id": "nuTLngPjpNEZ",
        "outputId": "e413bb10-25be-4a89-b0e6-12641b5189e1"
      },
      "outputs": [
        {
          "output_type": "execute_result",
          "data": {
            "text/plain": [
              "1178475.0"
            ]
          },
          "metadata": {},
          "execution_count": 24
        }
      ],
      "source": [
        "test_df['Annual Income'].median()"
      ]
    },
    {
      "cell_type": "code",
      "execution_count": 25,
      "metadata": {
        "id": "GtuyBV2SpTQh"
      },
      "outputs": [],
      "source": [
        "train_df.loc[train_df['Annual Income'].isnull(), 'Annual Income'] = train_df['Annual Income'].median()"
      ]
    },
    {
      "cell_type": "code",
      "execution_count": 26,
      "metadata": {
        "id": "4nkm5801M_Ok"
      },
      "outputs": [],
      "source": [
        "train_df['Years in current job'] = train_df['Years in current job'].fillna(train_df['Years in current job'].mode()[0])"
      ]
    },
    {
      "cell_type": "code",
      "execution_count": 26,
      "metadata": {
        "id": "kT2I6W6GhIGy"
      },
      "outputs": [],
      "source": []
    },
    {
      "cell_type": "code",
      "execution_count": 27,
      "metadata": {
        "id": "cJzbsHoZOyek"
      },
      "outputs": [],
      "source": [
        "train_df.loc[train_df['Months since last delinquent'].isnull(), 'Months since last delinquent'] = train_df['Years in current job'].fillna(0)"
      ]
    },
    {
      "cell_type": "code",
      "execution_count": 28,
      "metadata": {
        "id": "Dl5Stq1vPbr1"
      },
      "outputs": [],
      "source": [
        "train_df.loc[train_df['Credit Score'].isnull(), 'Credit Score'] = train_df['Credit Score'].median()"
      ]
    },
    {
      "cell_type": "code",
      "execution_count": 29,
      "metadata": {
        "colab": {
          "base_uri": "https://localhost:8080/"
        },
        "id": "BjNt6Ab_Ppd0",
        "outputId": "bff3dbe6-3d1b-4d29-abab-918fccf1d7e4"
      },
      "outputs": [
        {
          "output_type": "execute_result",
          "data": {
            "text/plain": [
              "Home Ownership                  0.0\n",
              "Annual Income                   0.0\n",
              "Years in current job            0.0\n",
              "Tax Liens                       0.0\n",
              "Number of Open Accounts         0.0\n",
              "Years of Credit History         0.0\n",
              "Maximum Open Credit             0.0\n",
              "Number of Credit Problems       0.0\n",
              "Months since last delinquent    0.0\n",
              "Bankruptcies                    0.0\n",
              "Purpose                         0.0\n",
              "Term                            0.0\n",
              "Current Loan Amount             0.0\n",
              "Current Credit Balance          0.0\n",
              "Monthly Debt                    0.0\n",
              "Credit Score                    0.0\n",
              "Credit Default                  0.0\n",
              "dtype: float64"
            ]
          },
          "metadata": {},
          "execution_count": 29
        }
      ],
      "source": [
        "(len(train_df) - train_df.count())/len(train_df)"
      ]
    },
    {
      "cell_type": "code",
      "execution_count": 30,
      "metadata": {
        "id": "y52VN5kJPveN"
      },
      "outputs": [],
      "source": [
        "test_df.loc[test_df['Annual Income'].isnull(), 'Annual Income'] = test_df['Annual Income'].median()"
      ]
    },
    {
      "cell_type": "code",
      "execution_count": 31,
      "metadata": {
        "id": "sndezKHqRxug"
      },
      "outputs": [],
      "source": [
        "test_df['Years in current job'] = test_df['Years in current job'].fillna(test_df['Years in current job'].mode()[0])"
      ]
    },
    {
      "cell_type": "code",
      "execution_count": 32,
      "metadata": {
        "id": "56gDNQZoXa6n"
      },
      "outputs": [],
      "source": [
        "test_df.loc[test_df['Months since last delinquent'].isnull(), 'Months since last delinquent'] = test_df['Years in current job'].fillna(0)"
      ]
    },
    {
      "cell_type": "code",
      "execution_count": 33,
      "metadata": {
        "id": "2bqBDu67XkeN"
      },
      "outputs": [],
      "source": [
        "test_df.loc[test_df['Credit Score'].isnull(), 'Credit Score'] = test_df['Credit Score'].median()"
      ]
    },
    {
      "cell_type": "code",
      "execution_count": 34,
      "metadata": {
        "colab": {
          "base_uri": "https://localhost:8080/"
        },
        "id": "5j6RcfwQXsHP",
        "outputId": "bfece547-8b65-41bc-b02a-68b78d290c2c"
      },
      "outputs": [
        {
          "output_type": "execute_result",
          "data": {
            "text/plain": [
              "Home Ownership                  0.0\n",
              "Annual Income                   0.0\n",
              "Years in current job            0.0\n",
              "Tax Liens                       0.0\n",
              "Number of Open Accounts         0.0\n",
              "Years of Credit History         0.0\n",
              "Maximum Open Credit             0.0\n",
              "Number of Credit Problems       0.0\n",
              "Months since last delinquent    0.0\n",
              "Bankruptcies                    0.0\n",
              "Purpose                         0.0\n",
              "Term                            0.0\n",
              "Current Loan Amount             0.0\n",
              "Current Credit Balance          0.0\n",
              "Monthly Debt                    0.0\n",
              "Credit Score                    0.0\n",
              "dtype: float64"
            ]
          },
          "metadata": {},
          "execution_count": 34
        }
      ],
      "source": [
        "(len(test_df) - test_df.count())/len(test_df)"
      ]
    },
    {
      "cell_type": "markdown",
      "metadata": {
        "id": "N758iu9lfZJA"
      },
      "source": [
        "###Выделение целевой переменной и групп признаков"
      ]
    },
    {
      "cell_type": "code",
      "execution_count": 35,
      "metadata": {
        "id": "pdTT1zYyfb9U"
      },
      "outputs": [],
      "source": [
        "TARGET_NAME = 'Credit Default'\n",
        "BASE_FEATURE_NAMES = train_df.columns.drop(TARGET_NAME).tolist()\n",
        "BASE_FEATURE_NAMES_ = test_df.columns.tolist()"
      ]
    },
    {
      "cell_type": "markdown",
      "metadata": {
        "id": "S2OSSgqlbjSp"
      },
      "source": [
        "###Анализ данных"
      ]
    },
    {
      "cell_type": "code",
      "execution_count": 36,
      "metadata": {
        "colab": {
          "base_uri": "https://localhost:8080/"
        },
        "id": "uwea6Q7BcJf2",
        "outputId": "acc01437-48c7-44bc-c5a3-3df6c7337221"
      },
      "outputs": [
        {
          "output_type": "execute_result",
          "data": {
            "text/plain": [
              "0    5387\n",
              "1    2113\n",
              "Name: Credit Default, dtype: int64"
            ]
          },
          "metadata": {},
          "execution_count": 36
        }
      ],
      "source": [
        "train_df[TARGET_NAME].value_counts()"
      ]
    },
    {
      "cell_type": "code",
      "execution_count": 37,
      "metadata": {
        "colab": {
          "base_uri": "https://localhost:8080/",
          "height": 333
        },
        "id": "feaWWjhXfMyA",
        "outputId": "fe21addf-83f9-4241-902e-e5214cbef080"
      },
      "outputs": [
        {
          "output_type": "display_data",
          "data": {
            "text/plain": [
              "<Figure size 500x300 with 1 Axes>"
            ],
            "image/png": "[encoded data removed]"
          },
          "metadata": {}
        }
      ],
      "source": [
        "plt.figure(figsize=(5, 3))\n",
        "\n",
        "sns.countplot(x=TARGET_NAME, data=train_df)\n",
        "\n",
        "plt.title('Target variable distribution')\n",
        "plt.show()"
      ]
    },
    {
      "cell_type": "markdown",
      "metadata": {
        "id": "Xki8Z_L6hCwc"
      },
      "source": [
        "###Корреляция с базовыми признаками"
      ]
    },
    {
      "cell_type": "code",
      "execution_count": 38,
      "metadata": {
        "colab": {
          "base_uri": "https://localhost:8080/",
          "height": 314
        },
        "id": "F75RslRNhEhE",
        "outputId": "de46bbf2-8b22-4962-f68d-cc720ac9ecc3"
      },
      "outputs": [
        {
          "output_type": "display_data",
          "data": {
            "text/plain": [
              "<Figure size 600x300 with 1 Axes>"
            ],
            "image/png": "[encoded data removed]"
          },
          "metadata": {}
        }
      ],
      "source": [
        "corr_with_target = train_df[BASE_FEATURE_NAMES + [TARGET_NAME]].corr().iloc[:-1, -1].sort_values(ascending=False)\n",
        "\n",
        "plt.figure(figsize=(6, 3))\n",
        "\n",
        "sns.barplot(x=corr_with_target.values, y=corr_with_target.index)\n",
        "\n",
        "plt.title('Correlation with target variable')\n",
        "plt.show()"
      ]
    },
    {
      "cell_type": "markdown",
      "metadata": {
        "id": "sWrvVGscKsX6"
      },
      "source": [
        "###Отбор признаков"
      ]
    },
    {
      "cell_type": "code",
      "execution_count": 39,
      "metadata": {
        "colab": {
          "base_uri": "https://localhost:8080/"
        },
        "id": "uLo4aUy6K8hX",
        "outputId": "6a278af1-658e-4609-cec5-3aed21b72a3b"
      },
      "outputs": [
        {
          "output_type": "execute_result",
          "data": {
            "text/plain": [
              "Home Ownership                   object\n",
              "Annual Income                   float64\n",
              "Years in current job             object\n",
              "Tax Liens                        object\n",
              "Number of Open Accounts         float64\n",
              "Years of Credit History         float64\n",
              "Maximum Open Credit             float64\n",
              "Number of Credit Problems        object\n",
              "Months since last delinquent     object\n",
              "Bankruptcies                     object\n",
              "Purpose                          object\n",
              "Term                             object\n",
              "Current Loan Amount             float64\n",
              "Current Credit Balance          float64\n",
              "Monthly Debt                    float64\n",
              "Credit Score                    float64\n",
              "Credit Default                    int64\n",
              "dtype: object"
            ]
          },
          "metadata": {},
          "execution_count": 39
        }
      ],
      "source": [
        "train_df.dtypes"
      ]
    },
    {
      "cell_type": "code",
      "execution_count": 40,
      "metadata": {
        "id": "kBq1_Oo6KuzY"
      },
      "outputs": [],
      "source": [
        "NUM_FEATURE_NAMES = ['Annual Income', 'Number of Open Accounts', 'Years of Credit History', 'Maximum Open Credit', 'Current Loan Amount', 'Current Credit Balance', 'Monthly Debt', 'Credit Score']\n",
        "CAT_FEATURE_NAMES = ['Home Ownership', 'Years in current job', 'Tax Liens', 'Number of Credit Problems', 'Months since last delinquent', 'Bankruptcies', 'Purpose', 'Term']\n",
        "SELECTED_FEATURE_NAMES = NUM_FEATURE_NAMES + CAT_FEATURE_NAMES"
      ]
    },
    {
      "cell_type": "code",
      "execution_count": 41,
      "metadata": {
        "id": "33vylLxCa8Jj"
      },
      "outputs": [],
      "source": [
        "NUM_FEATURE_NAMES_ = ['Annual Income', 'Number of Open Accounts', 'Years of Credit History', 'Maximum Open Credit', 'Current Loan Amount', 'Current Credit Balance', 'Monthly Debt', 'Credit Score']\n",
        "CAT_FEATURE_NAMES_ = ['Home Ownership', 'Years in current job', 'Tax Liens', 'Number of Credit Problems', 'Months since last delinquent', 'Bankruptcies', 'Purpose', 'Term']\n",
        "SELECTED_FEATURE_NAMES_ = NUM_FEATURE_NAMES_ + CAT_FEATURE_NAMES_"
      ]
    },
    {
      "cell_type": "markdown",
      "metadata": {
        "id": "lbiT8MeEbh88"
      },
      "source": [
        "###Нормализация данных"
      ]
    },
    {
      "cell_type": "code",
      "execution_count": 42,
      "metadata": {
        "id": "mSmr2_bNMeku"
      },
      "outputs": [],
      "source": [
        "scaler = StandardScaler()\n",
        "\n",
        "train_df_norm = train_df.copy()\n",
        "train_df_norm[NUM_FEATURE_NAMES] = scaler.fit_transform(train_df_norm[NUM_FEATURE_NAMES])\n",
        "\n",
        "train_df = train_df_norm.copy()"
      ]
    },
    {
      "cell_type": "code",
      "execution_count": 43,
      "metadata": {
        "id": "dTKupK9kbQfA"
      },
      "outputs": [],
      "source": [
        "scaler = StandardScaler()\n",
        "\n",
        "test_df_norm = test_df.copy()\n",
        "test_df_norm[NUM_FEATURE_NAMES_] = scaler.fit_transform(test_df_norm[NUM_FEATURE_NAMES_])\n",
        "\n",
        "test_df = test_df_norm.copy()"
      ]
    },
    {
      "cell_type": "markdown",
      "metadata": {
        "id": "yzc7U4t2br-d"
      },
      "source": [
        "###Разбиение на train и test"
      ]
    },
    {
      "cell_type": "code",
      "execution_count": 44,
      "metadata": {
        "id": "qDqNmNXKM6Ik"
      },
      "outputs": [],
      "source": [
        "X = train_df[NUM_FEATURE_NAMES]\n",
        "y = train_df[TARGET_NAME]\n",
        "\n",
        "X_train, X_test, y_train, y_test = train_test_split(X, y, shuffle=True, test_size=0.30, random_state=21)"
      ]
    },
    {
      "cell_type": "markdown",
      "metadata": {
        "id": "ZkEntaeubyoT"
      },
      "source": [
        "###Балансировка целевой переменной"
      ]
    },
    {
      "cell_type": "code",
      "execution_count": 45,
      "metadata": {
        "colab": {
          "base_uri": "https://localhost:8080/"
        },
        "id": "-JDZGfKYNqLr",
        "outputId": "5453c83a-0b92-4d64-e39c-b3181d4228f5"
      },
      "outputs": [
        {
          "output_type": "execute_result",
          "data": {
            "text/plain": [
              "0    3771\n",
              "1    2958\n",
              "Name: Credit Default, dtype: int64"
            ]
          },
          "metadata": {},
          "execution_count": 45
        }
      ],
      "source": [
        "df_for_balancing = pd.concat([X_train, y_train], axis=1)\n",
        "df_balanced = balance_df_by_target(df_for_balancing, TARGET_NAME)\n",
        "    \n",
        "df_balanced[TARGET_NAME].value_counts()"
      ]
    },
    {
      "cell_type": "code",
      "execution_count": 46,
      "metadata": {
        "id": "Uo4XLp7ZON1J"
      },
      "outputs": [],
      "source": [
        "X_train = df_balanced.drop(columns=TARGET_NAME)\n",
        "y_train = df_balanced[TARGET_NAME]"
      ]
    },
    {
      "cell_type": "markdown",
      "metadata": {
        "id": "KZXvvpt4cCqb"
      },
      "source": [
        "###Построение и оценка модели"
      ]
    },
    {
      "cell_type": "code",
      "execution_count": 47,
      "metadata": {
        "colab": {
          "base_uri": "https://localhost:8080/"
        },
        "id": "59irMYEEQf_o",
        "outputId": "ebe7e51c-9885-44bb-822c-95bcb51cc6cb"
      },
      "outputs": [
        {
          "output_type": "stream",
          "name": "stdout",
          "text": [
            "TRAIN\n",
            "\n",
            "              precision    recall  f1-score   support\n",
            "\n",
            "           0       0.91      0.96      0.93      3771\n",
            "           1       0.94      0.88      0.91      2958\n",
            "\n",
            "    accuracy                           0.92      6729\n",
            "   macro avg       0.93      0.92      0.92      6729\n",
            "weighted avg       0.92      0.92      0.92      6729\n",
            "\n",
            "TEST\n",
            "\n",
            "              precision    recall  f1-score   support\n",
            "\n",
            "           0       0.80      0.83      0.81      1616\n",
            "           1       0.51      0.46      0.49       634\n",
            "\n",
            "    accuracy                           0.73      2250\n",
            "   macro avg       0.66      0.64      0.65      2250\n",
            "weighted avg       0.72      0.73      0.72      2250\n",
            "\n",
            "CONFUSION MATRIX\n",
            "\n",
            "col_0              0    1\n",
            "Credit Default           \n",
            "0               1340  276\n",
            "1                342  292\n"
          ]
        }
      ],
      "source": [
        "model_lgbm = lgbm.LGBMClassifier(random_state=21)\n",
        "model_lgbm.fit(X_train, y_train)\n",
        "\n",
        "y_train_pred = model_lgbm.predict(X_train)\n",
        "y_test_pred = model_lgbm.predict(X_test)\n",
        "\n",
        "get_classification_report(y_train, y_train_pred, y_test, y_test_pred)"
      ]
    },
    {
      "cell_type": "code",
      "execution_count": 48,
      "metadata": {
        "id": "otaxH04LQyCa"
      },
      "outputs": [],
      "source": [
        "from lightgbm.sklearn import LGBMClassifier\n",
        "model_lgbm = lgbm.LGBMClassifier(class_weight={0:1, 1:3.5}, silent=True, random_state=21)"
      ]
    },
    {
      "cell_type": "markdown",
      "metadata": {
        "id": "gDwmxIm0ZMGd"
      },
      "source": [
        "###Подбор гиперпараметров"
      ]
    },
    {
      "cell_type": "code",
      "execution_count": 49,
      "metadata": {
        "id": "zVWLbTwtRfkl"
      },
      "outputs": [],
      "source": [
        "params = {'n_estimators':[50, 100, 200, 500, 700, 1000, 1200, 1500],\n",
        "          'max_depth':[3, 5, 7]}"
      ]
    },
    {
      "cell_type": "code",
      "execution_count": 50,
      "metadata": {
        "id": "dLygjOKlRia6"
      },
      "outputs": [],
      "source": [
        "cv=KFold(n_splits=3, random_state=21, shuffle=True)"
      ]
    },
    {
      "cell_type": "code",
      "execution_count": 51,
      "metadata": {
        "colab": {
          "base_uri": "https://localhost:8080/",
          "height": 152
        },
        "id": "l3IljQXhRmPy",
        "outputId": "09a83ee9-5fb3-42e5-a9c9-c964d39e5d4c"
      },
      "outputs": [
        {
          "output_type": "stream",
          "name": "stdout",
          "text": [
            "CPU times: user 744 ms, sys: 88.4 ms, total: 832 ms\n",
            "Wall time: 28.5 s\n"
          ]
        },
        {
          "output_type": "execute_result",
          "data": {
            "text/plain": [
              "RandomizedSearchCV(cv=KFold(n_splits=3, random_state=21, shuffle=True),\n",
              "                   estimator=LGBMClassifier(class_weight={0: 1, 1: 3.5},\n",
              "                                            random_state=21, silent=True),\n",
              "                   n_jobs=-1,\n",
              "                   param_distributions={'max_depth': [3, 5, 7],\n",
              "                                        'n_estimators': [50, 100, 200, 500, 700,\n",
              "                                                         1000, 1200, 1500]},\n",
              "                   scoring='f1')"
            ],
            "text/html": [
              "<style>#sk-container-id-1 {color: black;background-color: white;}#sk-container-id-1 pre{padding: 0;}#sk-container-id-1 div.sk-toggleable {background-color: white;}#sk-container-id-1 label.sk-toggleable__label {cursor: pointer;display: block;width: 100%;margin-bottom: 0;padding: 0.3em;box-sizing: border-box;text-align: center;}#sk-container-id-1 label.sk-toggleable__label-arrow:before {content: \"▸\";float: left;margin-right: 0.25em;color: #696969;}#sk-container-id-1 label.sk-toggleable__label-arrow:hover:before {color: black;}#sk-container-id-1 div.sk-estimator:hover label.sk-toggleable__label-arrow:before {color: black;}#sk-container-id-1 div.sk-toggleable__content {max-height: 0;max-width: 0;overflow: hidden;text-align: left;background-color: #f0f8ff;}#sk-container-id-1 div.sk-toggleable__content pre {margin: 0.2em;color: black;border-radius: 0.25em;background-color: #f0f8ff;}#sk-container-id-1 input.sk-toggleable__control:checked~div.sk-toggleable__content {max-height: 200px;max-width: 100%;overflow: auto;}#sk-container-id-1 input.sk-toggleable__control:checked~label.sk-toggleable__label-arrow:before {content: \"▾\";}#sk-container-id-1 div.sk-estimator input.sk-toggleable__control:checked~label.sk-toggleable__label {background-color: #d4ebff;}#sk-container-id-1 div.sk-label input.sk-toggleable__control:checked~label.sk-toggleable__label {background-color: #d4ebff;}#sk-container-id-1 input.sk-hidden--visually {border: 0;clip: rect(1px 1px 1px 1px);clip: rect(1px, 1px, 1px, 1px);height: 1px;margin: -1px;overflow: hidden;padding: 0;position: absolute;width: 1px;}#sk-container-id-1 div.sk-estimator {font-family: monospace;background-color: #f0f8ff;border: 1px dotted black;border-radius: 0.25em;box-sizing: border-box;margin-bottom: 0.5em;}#sk-container-id-1 div.sk-estimator:hover {background-color: #d4ebff;}#sk-container-id-1 div.sk-parallel-item::after {content: \"\";width: 100%;border-bottom: 1px solid gray;flex-grow: 1;}#sk-container-id-1 div.sk-label:hover label.sk-toggleable__label {background-color: #d4ebff;}#sk-container-id-1 div.sk-serial::before {content: \"\";position: absolute;border-left: 1px solid gray;box-sizing: border-box;top: 0;bottom: 0;left: 50%;z-index: 0;}#sk-container-id-1 div.sk-serial {display: flex;flex-direction: column;align-items: center;background-color: white;padding-right: 0.2em;padding-left: 0.2em;position: relative;}#sk-container-id-1 div.sk-item {position: relative;z-index: 1;}#sk-container-id-1 div.sk-parallel {display: flex;align-items: stretch;justify-content: center;background-color: white;position: relative;}#sk-container-id-1 div.sk-item::before, #sk-container-id-1 div.sk-parallel-item::before {content: \"\";position: absolute;border-left: 1px solid gray;box-sizing: border-box;top: 0;bottom: 0;left: 50%;z-index: -1;}#sk-container-id-1 div.sk-parallel-item {display: flex;flex-direction: column;z-index: 1;position: relative;background-color: white;}#sk-container-id-1 div.sk-parallel-item:first-child::after {align-self: flex-end;width: 50%;}#sk-container-id-1 div.sk-parallel-item:last-child::after {align-self: flex-start;width: 50%;}#sk-container-id-1 div.sk-parallel-item:only-child::after {width: 0;}#sk-container-id-1 div.sk-dashed-wrapped {border: 1px dashed gray;margin: 0 0.4em 0.5em 0.4em;box-sizing: border-box;padding-bottom: 0.4em;background-color: white;}#sk-container-id-1 div.sk-label label {font-family: monospace;font-weight: bold;display: inline-block;line-height: 1.2em;}#sk-container-id-1 div.sk-label-container {text-align: center;}#sk-container-id-1 div.sk-container {/* jupyter's `normalize.less` sets `[hidden] { display: none; }` but bootstrap.min.css set `[hidden] { display: none !important; }` so we also need the `!important` here to be able to override the default hidden behavior on the sphinx rendered scikit-learn.org. See: https://github.com/scikit-learn/scikit-learn/issues/21755 */display: inline-block !important;position: relative;}#sk-container-id-1 div.sk-text-repr-fallback {display: none;}</style><div id=\"sk-container-id-1\" class=\"sk-top-container\"><div class=\"sk-text-repr-fallback\"><pre>RandomizedSearchCV(cv=KFold(n_splits=3, random_state=21, shuffle=True),\n",
              "                   estimator=LGBMClassifier(class_weight={0: 1, 1: 3.5},\n",
              "                                            random_state=21, silent=True),\n",
              "                   n_jobs=-1,\n",
              "                   param_distributions={&#x27;max_depth&#x27;: [3, 5, 7],\n",
              "                                        &#x27;n_estimators&#x27;: [50, 100, 200, 500, 700,\n",
              "                                                         1000, 1200, 1500]},\n",
              "                   scoring=&#x27;f1&#x27;)</pre><b>In a Jupyter environment, please rerun this cell to show the HTML representation or trust the notebook. <br />On GitHub, the HTML representation is unable to render, please try loading this page with nbviewer.org.</b></div><div class=\"sk-container\" hidden><div class=\"sk-item sk-dashed-wrapped\"><div class=\"sk-label-container\"><div class=\"sk-label sk-toggleable\"><input class=\"sk-toggleable__control sk-hidden--visually\" id=\"sk-estimator-id-1\" type=\"checkbox\" ><label for=\"sk-estimator-id-1\" class=\"sk-toggleable__label sk-toggleable__label-arrow\">RandomizedSearchCV</label><div class=\"sk-toggleable__content\"><pre>RandomizedSearchCV(cv=KFold(n_splits=3, random_state=21, shuffle=True),\n",
              "                   estimator=LGBMClassifier(class_weight={0: 1, 1: 3.5},\n",
              "                                            random_state=21, silent=True),\n",
              "                   n_jobs=-1,\n",
              "                   param_distributions={&#x27;max_depth&#x27;: [3, 5, 7],\n",
              "                                        &#x27;n_estimators&#x27;: [50, 100, 200, 500, 700,\n",
              "                                                         1000, 1200, 1500]},\n",
              "                   scoring=&#x27;f1&#x27;)</pre></div></div></div><div class=\"sk-parallel\"><div class=\"sk-parallel-item\"><div class=\"sk-item\"><div class=\"sk-label-container\"><div class=\"sk-label sk-toggleable\"><input class=\"sk-toggleable__control sk-hidden--visually\" id=\"sk-estimator-id-2\" type=\"checkbox\" ><label for=\"sk-estimator-id-2\" class=\"sk-toggleable__label sk-toggleable__label-arrow\">estimator: LGBMClassifier</label><div class=\"sk-toggleable__content\"><pre>LGBMClassifier(class_weight={0: 1, 1: 3.5}, random_state=21, silent=True)</pre></div></div></div><div class=\"sk-serial\"><div class=\"sk-item\"><div class=\"sk-estimator sk-toggleable\"><input class=\"sk-toggleable__control sk-hidden--visually\" id=\"sk-estimator-id-3\" type=\"checkbox\" ><label for=\"sk-estimator-id-3\" class=\"sk-toggleable__label sk-toggleable__label-arrow\">LGBMClassifier</label><div class=\"sk-toggleable__content\"><pre>LGBMClassifier(class_weight={0: 1, 1: 3.5}, random_state=21, silent=True)</pre></div></div></div></div></div></div></div></div></div></div>"
            ]
          },
          "metadata": {},
          "execution_count": 51
        }
      ],
      "source": [
        "%%time\n",
        "\n",
        "rs = RandomizedSearchCV(model_lgbm, params, scoring='f1', cv=cv, n_jobs=-1)\n",
        "rs.fit(X, y)"
      ]
    },
    {
      "cell_type": "code",
      "execution_count": 52,
      "metadata": {
        "colab": {
          "base_uri": "https://localhost:8080/"
        },
        "id": "FnkzIS3jVaRk",
        "outputId": "2e27b308-c7ab-46fa-e027-06f5d46d5b90"
      },
      "outputs": [
        {
          "output_type": "execute_result",
          "data": {
            "text/plain": [
              "{'n_estimators': 100, 'max_depth': 3}"
            ]
          },
          "metadata": {},
          "execution_count": 52
        }
      ],
      "source": [
        "rs.best_params_"
      ]
    },
    {
      "cell_type": "code",
      "execution_count": 53,
      "metadata": {
        "colab": {
          "base_uri": "https://localhost:8080/"
        },
        "id": "jzatydgJVgpw",
        "outputId": "67ab6030-9fe2-4be7-8735-30b324480dbe"
      },
      "outputs": [
        {
          "output_type": "execute_result",
          "data": {
            "text/plain": [
              "0.5292016972345005"
            ]
          },
          "metadata": {},
          "execution_count": 53
        }
      ],
      "source": [
        "rs.best_score_"
      ]
    },
    {
      "cell_type": "markdown",
      "metadata": {
        "id": "3ZpRBc4mDDIu"
      },
      "source": [
        "### Проверка качесTва, борьба с переобучением"
      ]
    },
    {
      "cell_type": "markdown",
      "metadata": {
        "id": "1FK6QNPGZU56"
      },
      "source": []
    },
    {
      "cell_type": "code",
      "execution_count": 54,
      "metadata": {
        "colab": {
          "base_uri": "https://localhost:8080/"
        },
        "id": "UM2IGMK8kR8l",
        "outputId": "7e36a8de-9bed-44ba-d306-3a82ab97d80c"
      },
      "outputs": [
        {
          "output_type": "stream",
          "name": "stdout",
          "text": [
            "TRAIN\n",
            "\n",
            "              precision    recall  f1-score   support\n",
            "\n",
            "           0       0.73      0.85      0.79      3771\n",
            "           1       0.76      0.61      0.68      2958\n",
            "\n",
            "    accuracy                           0.74      6729\n",
            "   macro avg       0.75      0.73      0.73      6729\n",
            "weighted avg       0.75      0.74      0.74      6729\n",
            "\n",
            "TEST\n",
            "\n",
            "              precision    recall  f1-score   support\n",
            "\n",
            "           0       0.81      0.81      0.81      1616\n",
            "           1       0.52      0.52      0.52       634\n",
            "\n",
            "    accuracy                           0.73      2250\n",
            "   macro avg       0.66      0.66      0.66      2250\n",
            "weighted avg       0.73      0.73      0.73      2250\n",
            "\n",
            "CONFUSION MATRIX\n",
            "\n",
            "col_0              0    1\n",
            "Credit Default           \n",
            "0               1308  308\n",
            "1                306  328\n"
          ]
        }
      ],
      "source": [
        "final_model = lgbm.LGBMClassifier(n_estimators=100, max_depth=5,\n",
        "                                      reg_lambda=40,\n",
        "                                      silent=True, random_state=21)\n",
        "final_model.fit(X_train, y_train)\n",
        "\n",
        "y_train_pred = final_model.predict(X_train)\n",
        "y_test_pred = final_model.predict(X_test)\n",
        "y_test_pred_probs = final_model.predict_proba(X_test)\n",
        "\n",
        "get_classification_report(y_train, y_train_pred, y_test, y_test_pred)"
      ]
    },
    {
      "cell_type": "code",
      "execution_count": 55,
      "metadata": {
        "id": "9ehcTpoklIeG"
      },
      "outputs": [],
      "source": [
        "# final_model = lgbm.LGBMClassifier(n_estimators=1000, max_depth=3,\n",
        "#                                       class_weight={0:1, 1:3.5},\n",
        "#                                       silent=True, random_state=21)"
      ]
    },
    {
      "cell_type": "code",
      "execution_count": 56,
      "metadata": {
        "id": "JCnqvwLwVmxA"
      },
      "outputs": [],
      "source": [
        "# %%time\n",
        "\n",
        "# final_model = lgbm.LGBMClassifier(n_estimators=1000, max_depth=3,\n",
        "#                                       silent=True, random_state=21)\n",
        "# final_model.fit(X_train, y_train)\n",
        "\n",
        "# y_train_pred = final_model.predict(X_train)\n",
        "# y_test_pred = final_model.predict(X_test)\n",
        "\n",
        "# get_classification_report(y_train, y_train_pred, y_test, y_test_pred)"
      ]
    },
    {
      "cell_type": "code",
      "execution_count": 57,
      "metadata": {
        "colab": {
          "base_uri": "https://localhost:8080/",
          "height": 410
        },
        "id": "V0mkbyCqlb3t",
        "outputId": "2c119cdc-5fa9-4279-a960-2401b21e177d"
      },
      "outputs": [
        {
          "output_type": "display_data",
          "data": {
            "text/plain": [
              "<Figure size 700x400 with 1 Axes>"
            ],
            "image/png": "[encoded data removed]"
          },
          "metadata": {}
        }
      ],
      "source": [
        "show_learning_curve_plot(final_model, X, y)"
      ]
    },
    {
      "cell_type": "code",
      "execution_count": 58,
      "metadata": {
        "colab": {
          "base_uri": "https://localhost:8080/",
          "height": 767
        },
        "id": "8H2Fu0b-lfKa",
        "outputId": "4d30f359-3966-47b8-e5a1-286cf2f36571"
      },
      "outputs": [
        {
          "output_type": "display_data",
          "data": {
            "text/plain": [
              "<Figure size 900x400 with 2 Axes>"
            ],
            "image/png": "[encoded data removed]"
          },
          "metadata": {}
        }
      ],
      "source": [
        "show_proba_calibration_plots(y_test_pred_probs[:, 1], y_test)"
      ]
    },
    {
      "cell_type": "markdown",
      "metadata": {
        "id": "m2-4a1ZTFw5d"
      },
      "source": [
        "###Прогно3"
      ]
    },
    {
      "cell_type": "code",
      "execution_count": 59,
      "metadata": {
        "id": "NHQ9_cBArW10"
      },
      "outputs": [],
      "source": [
        "forecast = final_model.predict(test_df[NUM_FEATURE_NAMES_])"
      ]
    },
    {
      "cell_type": "code",
      "execution_count": 60,
      "metadata": {
        "id": "83X2HRnSrlv5"
      },
      "outputs": [],
      "source": [
        "my_forecast = pd.DataFrame({'Credit Default': forecast.flatten()}, columns = ['Credit Default'])"
      ]
    },
    {
      "cell_type": "code",
      "execution_count": 61,
      "metadata": {
        "colab": {
          "base_uri": "https://localhost:8080/",
          "height": 363
        },
        "id": "yq_ihf9itLET",
        "outputId": "e2df4a1b-92d9-49c7-9575-eb858d4a4569"
      },
      "outputs": [
        {
          "output_type": "execute_result",
          "data": {
            "text/plain": [
              "   Credit Default\n",
              "0               0\n",
              "1               0\n",
              "2               1\n",
              "3               0\n",
              "4               0\n",
              "5               0\n",
              "6               1\n",
              "7               1\n",
              "8               1\n",
              "9               0"
            ],
            "text/html": [
              "\n",
              "  <div id=\"df-f8594b05-6d82-4e4c-97da-365195a13063\">\n",
              "    <div class=\"colab-df-container\">\n",
              "      <div>\n",
              "<style scoped>\n",
              "    .dataframe tbody tr th:only-of-type {\n",
              "        vertical-align: middle;\n",
              "    }\n",
              "\n",
              "    .dataframe tbody tr th {\n",
              "        vertical-align: top;\n",
              "    }\n",
              "\n",
              "    .dataframe thead th {\n",
              "        text-align: right;\n",
              "    }\n",
              "</style>\n",
              "<table border=\"1\" class=\"dataframe\">\n",
              "  <thead>\n",
              "    <tr style=\"text-align: right;\">\n",
              "      <th></th>\n",
              "      <th>Credit Default</th>\n",
              "    </tr>\n",
              "  </thead>\n",
              "  <tbody>\n",
              "    <tr>\n",
              "      <th>0</th>\n",
              "      <td>0</td>\n",
              "    </tr>\n",
              "    <tr>\n",
              "      <th>1</th>\n",
              "      <td>0</td>\n",
              "    </tr>\n",
              "    <tr>\n",
              "      <th>2</th>\n",
              "      <td>1</td>\n",
              "    </tr>\n",
              "    <tr>\n",
              "      <th>3</th>\n",
              "      <td>0</td>\n",
              "    </tr>\n",
              "    <tr>\n",
              "      <th>4</th>\n",
              "      <td>0</td>\n",
              "    </tr>\n",
              "    <tr>\n",
              "      <th>5</th>\n",
              "      <td>0</td>\n",
              "    </tr>\n",
              "    <tr>\n",
              "      <th>6</th>\n",
              "      <td>1</td>\n",
              "    </tr>\n",
              "    <tr>\n",
              "      <th>7</th>\n",
              "      <td>1</td>\n",
              "    </tr>\n",
              "    <tr>\n",
              "      <th>8</th>\n",
              "      <td>1</td>\n",
              "    </tr>\n",
              "    <tr>\n",
              "      <th>9</th>\n",
              "      <td>0</td>\n",
              "    </tr>\n",
              "  </tbody>\n",
              "</table>\n",
              "</div>\n",
              "      <button class=\"colab-df-convert\" onclick=\"convertToInteractive('df-f8594b05-6d82-4e4c-97da-365195a13063')\"\n",
              "              title=\"Convert this dataframe to an interactive table.\"\n",
              "              style=\"display:none;\">\n",
              "        \n",
              "  <svg xmlns=\"http://www.w3.org/2000/svg\" height=\"24px\"viewBox=\"0 0 24 24\"\n",
              "       width=\"24px\">\n",
              "    <path d=\"M0 0h24v24H0V0z\" fill=\"none\"/>\n",
              "    <path d=\"M18.56 5.44l.94 2.06.94-2.06 2.06-.94-2.06-.94-.94-2.06-.94 2.06-2.06.94zm-11 1L8.5 8.5l.94-2.06 2.06-.94-2.06-.94L8.5 2.5l-.94 2.06-2.06.94zm10 10l.94 2.06.94-2.06 2.06-.94-2.06-.94-.94-2.06-.94 2.06-2.06.94z\"/><path d=\"M17.41 7.96l-1.37-1.37c-.4-.4-.92-.59-1.43-.59-.52 0-1.04.2-1.43.59L10.3 9.45l-7.72 7.72c-.78.78-.78 2.05 0 2.83L4 21.41c.39.39.9.59 1.41.59.51 0 1.02-.2 1.41-.59l7.78-7.78 2.81-2.81c.8-.78.8-2.07 0-2.86zM5.41 20L4 18.59l7.72-7.72 1.47 1.35L5.41 20z\"/>\n",
              "  </svg>\n",
              "      </button>\n",
              "      \n",
              "  <style>\n",
              "    .colab-df-container {\n",
              "      display:flex;\n",
              "      flex-wrap:wrap;\n",
              "      gap: 12px;\n",
              "    }\n",
              "\n",
              "    .colab-df-convert {\n",
              "      background-color: #E8F0FE;\n",
              "      border: none;\n",
              "      border-radius: 50%;\n",
              "      cursor: pointer;\n",
              "      display: none;\n",
              "      fill: #1967D2;\n",
              "      height: 32px;\n",
              "      padding: 0 0 0 0;\n",
              "      width: 32px;\n",
              "    }\n",
              "\n",
              "    .colab-df-convert:hover {\n",
              "      background-color: #E2EBFA;\n",
              "      box-shadow: 0px 1px 2px rgba(60, 64, 67, 0.3), 0px 1px 3px 1px rgba(60, 64, 67, 0.15);\n",
              "      fill: #174EA6;\n",
              "    }\n",
              "\n",
              "    [theme=dark] .colab-df-convert {\n",
              "      background-color: #3B4455;\n",
              "      fill: #D2E3FC;\n",
              "    }\n",
              "\n",
              "    [theme=dark] .colab-df-convert:hover {\n",
              "      background-color: #434B5C;\n",
              "      box-shadow: 0px 1px 3px 1px rgba(0, 0, 0, 0.15);\n",
              "      filter: drop-shadow(0px 1px 2px rgba(0, 0, 0, 0.3));\n",
              "      fill: #FFFFFF;\n",
              "    }\n",
              "  </style>\n",
              "\n",
              "      <script>\n",
              "        const buttonEl =\n",
              "          document.querySelector('#df-f8594b05-6d82-4e4c-97da-365195a13063 button.colab-df-convert');\n",
              "        buttonEl.style.display =\n",
              "          google.colab.kernel.accessAllowed ? 'block' : 'none';\n",
              "\n",
              "        async function convertToInteractive(key) {\n",
              "          const element = document.querySelector('#df-f8594b05-6d82-4e4c-97da-365195a13063');\n",
              "          const dataTable =\n",
              "            await google.colab.kernel.invokeFunction('convertToInteractive',\n",
              "                                                     [key], {});\n",
              "          if (!dataTable) return;\n",
              "\n",
              "          const docLinkHtml = 'Like what you see? Visit the ' +\n",
              "            '<a target=\"_blank\" href=https://colab.research.google.com/notebooks/data_table.ipynb>data table notebook</a>'\n",
              "            + ' to learn more about interactive tables.';\n",
              "          element.innerHTML = '';\n",
              "          dataTable['output_type'] = 'display_data';\n",
              "          await google.colab.output.renderOutput(dataTable, element);\n",
              "          const docLink = document.createElement('div');\n",
              "          docLink.innerHTML = docLinkHtml;\n",
              "          element.appendChild(docLink);\n",
              "        }\n",
              "      </script>\n",
              "    </div>\n",
              "  </div>\n",
              "  "
            ]
          },
          "metadata": {},
          "execution_count": 61
        }
      ],
      "source": [
        "my_forecast.head(10)"
      ]
    },
    {
      "cell_type": "code",
      "execution_count": 62,
      "metadata": {
        "colab": {
          "base_uri": "https://localhost:8080/"
        },
        "id": "NsiCbd0LgzUF",
        "outputId": "dbca7489-258f-46ce-ec3a-1428048b325e"
      },
      "outputs": [
        {
          "output_type": "execute_result",
          "data": {
            "text/plain": [
              "(2500, 1)"
            ]
          },
          "metadata": {},
          "execution_count": 62
        }
      ],
      "source": [
        "my_forecast.shape"
      ]
    },
    {
      "cell_type": "code",
      "execution_count": 63,
      "metadata": {
        "id": "PvQQ_ApLg1kU"
      },
      "outputs": [],
      "source": [
        "my_forecast.to_csv(MPozdnyakova_predictions, sep = ',', index = False, encoding = 'utf-8')"
      ]
    },
    {
      "cell_type": "code",
      "execution_count": 63,
      "metadata": {
        "id": "Kq2fsrUZo-Vk"
      },
      "outputs": [],
      "source": []
    }
  ],
  "metadata": {
    "colab": {
      "provenance": []
    },
    "kernelspec": {
      "display_name": "Python 3",
      "name": "python3"
    },
    "language_info": {
      "name": "python"
    }
  },
  "nbformat": 4,
  "nbformat_minor": 0
}